{
  "nbformat": 4,
  "nbformat_minor": 0,
  "metadata": {
    "colab": {
      "provenance": [],
      "toc_visible": true,
      "mount_file_id": "1eHt41ampHutDCFclqChTNh8ORgIYWa37",
      "authorship_tag": "ABX9TyMymtQJh2vmMNnOQvefVdSe",
      "include_colab_link": true
    },
    "kernelspec": {
      "name": "python3",
      "display_name": "Python 3"
    },
    "language_info": {
      "name": "python"
    }
  },
  "cells": [
    {
      "cell_type": "markdown",
      "metadata": {
        "id": "view-in-github",
        "colab_type": "text"
      },
      "source": [
        "<a href=\"https://colab.research.google.com/github/parhamvz73/Machine-Learning/blob/main/Template.ipynb\" target=\"_parent\"><img src=\"https://colab.research.google.com/assets/colab-badge.svg\" alt=\"Open In Colab\"/></a>"
      ]
    },
    {
      "cell_type": "markdown",
      "source": [
        "# Step 1: Project Overview & Problem Definition"
      ],
      "metadata": {
        "id": "Zo035f0sVmWZ"
      }
    },
    {
      "cell_type": "markdown",
      "source": [
        "**Why I Am Starting With This**\n",
        "\n",
        "Before I jump into coding, cleaning data, or building models, I want to clearly understand the problem I’m solving.\n",
        "If I don’t do this properly:\n",
        "\n",
        "1.  might waste time exploring irrelevant aspects of the data.\n",
        "\n",
        "2. I won’t know how to measure whether my model is “good enough.”\n",
        "\n",
        "3. I might accidentally draw wrong conclusions because I didn’t think about assumptions and limitations.\n",
        "\n",
        ">From my perspective, a well-defined problem statement is the foundation of any successful data science project."
      ],
      "metadata": {
        "id": "hOESOEIDXfxq"
      }
    },
    {
      "cell_type": "markdown",
      "source": [
        "## My Project Title"
      ],
      "metadata": {
        "id": "9b4dYnHyXyen"
      }
    },
    {
      "cell_type": "markdown",
      "source": [
        "I always start with a **simple** but **descriptive** project title.\n",
        "\n",
        "Weak title: ***\"Titanic Dataset\"***\n",
        "\n",
        "My title: ***\"Predicting Survival on the Titanic (Binary Classification Project)\"***\n",
        "\n",
        "This way, anyone reading my notebook will immediately know:\n",
        "\n",
        "1. What the project is about\n",
        "\n",
        "2. What type of machine learning task I am working on (classification)"
      ],
      "metadata": {
        "id": "8Gxpckj-Yj8t"
      }
    },
    {
      "cell_type": "code",
      "source": [],
      "metadata": {
        "id": "HdO33EOwY1gW"
      },
      "execution_count": null,
      "outputs": []
    },
    {
      "cell_type": "markdown",
      "source": [
        "## Background / Context"
      ],
      "metadata": {
        "id": "bQgs6B3tY79d"
      }
    },
    {
      "cell_type": "markdown",
      "source": [
        "Here I describe the story behind the dataset and why it matters to me.\n",
        "\n",
        "I always start by asking myself a few key questions:\n",
        "\n",
        "- Where does the dataset come from?\n",
        "\n",
        "- What type of information does it contain?\n",
        "\n",
        "- Why is this problem important or valuable to solve?\n",
        "\n",
        ">The dataset I am working with contains records of individuals, items, or events, along with several descriptive features. The data is intended to support the prediction or classification of an outcome variable.\n",
        "\n",
        "Why is this important for me?\n",
        "\n",
        "- It is a commonly used dataset for practicing machine learning and gives me a safe environment to improve my workflow.\n",
        "\n",
        "- It is also inspired by real-world problems, where social, demographic, business, or environmental factors have a significant impact on outcomes."
      ],
      "metadata": {
        "id": "1gZrxBkeY_Fe"
      }
    },
    {
      "cell_type": "code",
      "source": [],
      "metadata": {
        "id": "MP9UHkBoZ4OU"
      },
      "execution_count": null,
      "outputs": []
    },
    {
      "cell_type": "markdown",
      "source": [
        "## Problem Statement"
      ],
      "metadata": {
        "id": "izTnWtXpZ5QT"
      }
    },
    {
      "cell_type": "markdown",
      "source": [
        "I want to keep this short and precise.\n",
        "\n",
        "- **Input:** Features or attributes available in the dataset (e.g., numerical, categorical, or text-based variables).\n",
        "\n",
        "- **Output:** Target outcome (e.g., a binary label, a continuous value, or a category).\n",
        "\n",
        "**My problem statement:**\n",
        "\n",
        ">The goal of my project is to predict the target outcome based on the available descriptive and contextual features in the dataset."
      ],
      "metadata": {
        "id": "c8VAJHtrZ7hW"
      }
    },
    {
      "cell_type": "code",
      "source": [],
      "metadata": {
        "id": "e78sOfm0aDuq"
      },
      "execution_count": null,
      "outputs": []
    },
    {
      "cell_type": "markdown",
      "source": [
        "##Goals & Objectives"
      ],
      "metadata": {
        "id": "VJQbL7XHaD55"
      }
    },
    {
      "cell_type": "markdown",
      "source": [
        "I split my goals into primary and secondary to stay organized.\n",
        "\n",
        "**Primary Goal:**\n",
        "\n",
        "- Build a machine learning model that predicts the target variable with at least a predefined performance threshold (e.g., accuracy above 80%).\n",
        "\n",
        "**Secondary Goals:**\n",
        "\n",
        "- Perform exploratory data analysis (EDA) to discover meaningful patterns.\n",
        "\n",
        "- Visualize which groups or categories show significant differences in outcomes.\n",
        "\n",
        "- Identify the most important predictors or drivers of the target variable.\n",
        "\n",
        "- Document assumptions, challenges, and limitations clearly."
      ],
      "metadata": {
        "id": "Wev3E5UmaHyx"
      }
    },
    {
      "cell_type": "code",
      "source": [],
      "metadata": {
        "id": "gSX1ARzuasdg"
      },
      "execution_count": null,
      "outputs": []
    },
    {
      "cell_type": "markdown",
      "source": [
        "## Success Criteria & Evaluation Metrics"
      ],
      "metadata": {
        "id": "wpczyVCWauBJ"
      }
    },
    {
      "cell_type": "markdown",
      "source": [
        "For me, success means having a measurable metric that I can track.\n",
        "\n",
        "Depending on the project type, I might use:\n",
        "\n",
        "- **Classification problems:** ***Accuracy, Precision, Recall, F1-score, ROC-AUC***\n",
        "\n",
        "- **Regression problems:** ***MSE, RMSE, MAE, R²***\n",
        "\n",
        "Since evaluation criteria often depend on the project context, I will choose one primary metric and track it consistently throughout the project.\n",
        "\n",
        "| Feature   | Description     | Example |  \n",
        "|-----------|----------------|---------|  \n",
        "| Classification      | Accuracy, Precision, Recall, AUC | Accuracy (example) |  \n",
        "| Regression       | MSE, RMSE, R²   | RMSE (example)  |  \n"
      ],
      "metadata": {
        "id": "XKhDyUIdaxbu"
      }
    },
    {
      "cell_type": "code",
      "source": [],
      "metadata": {
        "id": "lLw5PiY0bVsB"
      },
      "execution_count": null,
      "outputs": []
    },
    {
      "cell_type": "markdown",
      "source": [
        "## Assumptions & Limitations"
      ],
      "metadata": {
        "id": "D8OAaJIqbV6B"
      }
    },
    {
      "cell_type": "markdown",
      "source": [
        "I want to be honest about what I assume and what might limit my work.\n",
        "\n",
        "- **My Assumptions:**\n",
        "\n",
        "  - The dataset is representative of the real-world scenario.\n",
        "\n",
        "   - Missing values can be imputed without introducing heavy bias.\n",
        "\n",
        "    - The provided features are sufficient to train a predictive model.\n",
        "\n",
        "- **My Limitations:**\n",
        "\n",
        "   - The dataset may be relatively small or imbalanced.\n",
        "\n",
        "   - Some variables may contain too many missing values to be useful.\n",
        "\n",
        "   - Historical, demographic, or business biases may affect predictions.\n",
        "\n",
        ">⚠️ By writing this down, I remind myself (and anyone reading) not to over-interpret the results."
      ],
      "metadata": {
        "id": "bNIQpKXTbYC7"
      }
    },
    {
      "cell_type": "code",
      "source": [],
      "metadata": {
        "id": "X0dDTI3yb40o"
      },
      "execution_count": null,
      "outputs": []
    },
    {
      "cell_type": "markdown",
      "source": [
        "##My Project Checklist"
      ],
      "metadata": {
        "id": "gNBrEMYNb6v3"
      }
    },
    {
      "cell_type": "markdown",
      "source": [
        "I use a simple checklist to stay organized:\n",
        "\n",
        "- ✅ Define project title\n",
        "\n",
        "- ✅ Write problem statement\n",
        "\n",
        "- ⬜️ Explore dataset source and size\n",
        "\n",
        "- ⬜️ Identify target variable\n",
        "\n",
        "- ⬜️ Choose evaluation metric\n",
        "\n",
        "- ⬜️ Document assumptions and limitations"
      ],
      "metadata": {
        "id": "yOamd1zXb9cp"
      }
    },
    {
      "cell_type": "code",
      "source": [],
      "metadata": {
        "id": "c4F3v8oZcUqh"
      },
      "execution_count": null,
      "outputs": []
    },
    {
      "cell_type": "markdown",
      "source": [
        "# Step 2: Data Dictionary & Schema"
      ],
      "metadata": {
        "id": "8A30ldmxcl58"
      }
    },
    {
      "cell_type": "markdown",
      "source": [
        "Here I describe the structure of my dataset and document each column so I have a clear reference throughout the project.\n",
        "\n",
        "I always start by asking myself a few key questions:\n",
        "\n",
        "- What columns exist in the dataset?\n",
        "\n",
        "- What type of values do they contain (numeric, categorical, text, date)?\n",
        "\n",
        "- Which ones are identifiers, features, targets, or metadata?\n",
        "\n",
        "- How much missing data do I need to account for?\n",
        "\n",
        ">A well-written data dictionary helps me avoid confusion later, ensures I handle missing values correctly, and gives me a map for cleaning, encoding, and modeling."
      ],
      "metadata": {
        "id": "ibMuMnrfkkdp"
      }
    },
    {
      "cell_type": "markdown",
      "source": [
        "## Schema Overview (Template)"
      ],
      "metadata": {
        "id": "9NzkJ7qZcqQr"
      }
    },
    {
      "cell_type": "markdown",
      "source": [
        "I create a table that summarizes each column.\n",
        "\n",
        "| Column Name | Role (ID / Target / Feature / Meta) | Data Type | Unit / Format | Allowed Values / Range | Missing % | Description                                            |\n",
        "| ----------- | ----------------------------------- | --------- | ------------- | ---------------------- | --------- | ------------------------------------------------------ |\n",
        "| id          | ID                                  | integer   | unique id     | positive integers      | 0%        | Unique identifier per row                              |\n",
        "| target      | Target                              | int (0/1) | binary        | {0,1} or {yes,no}      | 0%        | The outcome variable I want to predict                 |\n",
        "| feature\\_1  | Feature                             | float     | numeric       | ≥0                     | 5%        | Continuous variable representing a measurable property |\n",
        "| feature\\_2  | Feature                             | category  | string        | {A, B, C, D}           | 0%        | Categorical variable with limited values               |\n",
        "| feature\\_3  | Feature                             | datetime  | YYYY-MM-DD    | valid date range       | 2%        | Date or time-related variable                          |\n",
        "| notes       | Meta                                | text      | free string   | n/a                    | 10%       | Optional comments or additional info                   |\n"
      ],
      "metadata": {
        "id": "Oh2nMPykkwX5"
      }
    },
    {
      "cell_type": "code",
      "source": [],
      "metadata": {
        "id": "VmrTieg8lBbF"
      },
      "execution_count": null,
      "outputs": []
    },
    {
      "cell_type": "markdown",
      "source": [
        "## Field-by-Field Notes"
      ],
      "metadata": {
        "id": "EyIpOG2elBvO"
      }
    },
    {
      "cell_type": "markdown",
      "source": [
        "Sometimes a table is not enough. For important variables, I write a short explanation:\n",
        "\n",
        "- **Target Variable:**\n",
        "\n",
        ">This is the label I am trying to predict. It is only present in the training set and absent in the test set. I also check its distribution to see if it is balanced or imbalanced.\n",
        "\n",
        "- **Identifiers:**\n",
        "\n",
        ">Unique IDs are useful for joining or submissions but not included in the model.\n",
        "\n",
        "- **Categorical Features:**\n",
        "\n",
        ">I note all distinct categories and check if rare levels exist that should be grouped into “Other.”\n",
        "\n",
        "- **Datetime Features:**\n",
        "\n",
        ">For date fields, I record the format, timezone, and coverage period. Later I might extract useful components like year, month, or weekday.\n",
        "\n",
        "- **Numeric Features:**\n",
        "\n",
        ">I record valid ranges and units. If there are impossible values (e.g., negatives where not expected), I log them for correction."
      ],
      "metadata": {
        "id": "vXH5a7H0lDS6"
      }
    },
    {
      "cell_type": "code",
      "source": [],
      "metadata": {
        "id": "eKp_9cfclRTK"
      },
      "execution_count": null,
      "outputs": []
    },
    {
      "cell_type": "markdown",
      "source": [
        "## Missingness Audit"
      ],
      "metadata": {
        "id": "lCdA95VGlRb3"
      }
    },
    {
      "cell_type": "markdown",
      "source": [
        "I check how many missing values exist in each column and plan how to handle them.\n",
        "\n",
        "| Column     | Missing % | Possible Reason    | Imputation Plan                  |\n",
        "| ---------- | --------- | ------------------ | -------------------------------- |\n",
        "| feature\\_1 | 5%        | data not recorded  | fill with median or group median |\n",
        "| feature\\_3 | 2%        | occasional errors  | forward fill / interpolation     |\n",
        "| notes      | 10%       | optional free text | ignore for modeling              |\n"
      ],
      "metadata": {
        "id": "-TZvSsb5lVmk"
      }
    },
    {
      "cell_type": "code",
      "source": [],
      "metadata": {
        "id": "g0cNNrz8lcAo"
      },
      "execution_count": null,
      "outputs": []
    },
    {
      "cell_type": "markdown",
      "source": [
        "## Categorical Levels & Encoding Plan"
      ],
      "metadata": {
        "id": "0y8AUCnRlcHV"
      }
    },
    {
      "cell_type": "markdown",
      "source": [
        "For each categorical feature, I plan how I will encode it:\n",
        "\n",
        "- feature_2: 4 levels {A, B, C, D} → one-hot encoding\n",
        "\n",
        "- feature_city: 200+ levels → group rare categories into “Other,” then one-hot encode\n",
        "\n",
        "- feature_quality: ordinal {low, medium, high} → label encoding with order"
      ],
      "metadata": {
        "id": "37rXNmkplfs_"
      }
    },
    {
      "cell_type": "code",
      "source": [],
      "metadata": {
        "id": "014SKMNMlf5B"
      },
      "execution_count": null,
      "outputs": []
    },
    {
      "cell_type": "markdown",
      "source": [
        "## Planned Derived Features"
      ],
      "metadata": {
        "id": "a1IZo4K8lnHl"
      }
    },
    {
      "cell_type": "markdown",
      "source": [
        "I also note any new features I may create later:\n",
        "\n",
        "`feature_ratio = feature_a / feature_b`\n",
        "\n",
        "`days_since_event = current_date - feature_3`\n",
        "\n",
        "`is_missing_flag = 1 if feature_1 is missing, else 0`"
      ],
      "metadata": {
        "id": "3cPWNZ-Qloz7"
      }
    },
    {
      "cell_type": "code",
      "source": [],
      "metadata": {
        "id": "rVtZm50el0uL"
      },
      "execution_count": null,
      "outputs": []
    },
    {
      "cell_type": "markdown",
      "source": [
        "## My Data Dictionary Checklist"
      ],
      "metadata": {
        "id": "doE7_3CKl02v"
      }
    },
    {
      "cell_type": "markdown",
      "source": [
        "- ✅ I listed all columns with descriptions\n",
        "\n",
        "- ✅ I defined data types and valid ranges\n",
        "\n",
        "- ⬜️ I recorded missingness per column\n",
        "\n",
        "- ⬜️ I assigned roles (ID, Target, Feature, Meta)\n",
        "\n",
        "- ⬜️ I drafted encoding and imputation strategies\n",
        "\n",
        "- ⬜️ I logged potential derived features"
      ],
      "metadata": {
        "id": "2Hh0fO5Ql4PH"
      }
    },
    {
      "cell_type": "code",
      "source": [],
      "metadata": {
        "id": "MFHJgJSwmFJ_"
      },
      "execution_count": null,
      "outputs": []
    },
    {
      "cell_type": "markdown",
      "source": [
        "# Step 3: Dataset Overview & Initial Inspection (EDA-0)"
      ],
      "metadata": {
        "id": "N7PElkH1mFSC"
      }
    },
    {
      "cell_type": "markdown",
      "source": [
        "Why I Am Doing This\n",
        "\n",
        "Before I clean, transform, or model anything, I want to get familiar with the dataset at a high level.\n",
        "This is like taking a first walk through the data:\n",
        "\n",
        "- How many rows and columns are there?\n",
        "\n",
        "- What types of variables am I dealing with?\n",
        "\n",
        "- How balanced is the target variable?\n",
        "\n",
        "- Do I notice any immediate problems (missing values, duplicates, strange outliers)?\n",
        "\n",
        ">The goal here is not deep analysis yet — just basic orientation so I know what I’m working with."
      ],
      "metadata": {
        "id": "X-kGB48zmXoc"
      }
    },
    {
      "cell_type": "markdown",
      "source": [
        "## Dataset Snapshot"
      ],
      "metadata": {
        "id": "zfO8C8oMmTuf"
      }
    },
    {
      "cell_type": "markdown",
      "source": [
        "The first thing I check is the basic shape and structure of the dataset.\n",
        "\n",
        "- Number of rows: total observations (how many examples I have)\n",
        "\n",
        "- Number of columns: total features (how many variables I can work with)\n",
        "\n",
        "- Granularity: what each row represents (an individual, a transaction, a product, a time series point, etc.)\n",
        "\n",
        "- Files / splits: do I have train.csv / test.csv, or just one dataset to split myself?\n",
        "\n",
        "I also want to confirm if the dataset is small, medium, or large, since that affects how I’ll handle computation."
      ],
      "metadata": {
        "id": "3iw-kykRmrBE"
      }
    },
    {
      "cell_type": "code",
      "source": [],
      "metadata": {
        "id": "9i_mB25ym41r"
      },
      "execution_count": null,
      "outputs": []
    },
    {
      "cell_type": "markdown",
      "source": [
        "## Data Types & Structure"
      ],
      "metadata": {
        "id": "B_FSHkstm5ca"
      }
    },
    {
      "cell_type": "markdown",
      "source": [
        "I then review the types of variables:\n",
        "\n",
        "- Numeric (continuous / discrete): e.g., age, income, counts\n",
        "\n",
        "- Categorical (nominal / ordinal): e.g., gender, class, quality rating\n",
        "\n",
        "- Datetime / temporal: e.g., order date, timestamp\n",
        "\n",
        "- Text / free-form: e.g., comments, names, reviews\n",
        "\n",
        "- Identifiers / keys: unique IDs, transaction numbers\n",
        "\n",
        ">This helps me plan how I’ll encode variables later (scaling for numbers, one-hot encoding for categories, extracting components for dates, etc.)."
      ],
      "metadata": {
        "id": "lGQEBmiGm8_6"
      }
    },
    {
      "cell_type": "code",
      "source": [],
      "metadata": {
        "id": "3wIJ6IPbnCkV"
      },
      "execution_count": null,
      "outputs": []
    },
    {
      "cell_type": "markdown",
      "source": [
        "## Target Variable (for Supervised Projects)"
      ],
      "metadata": {
        "id": "B8yQUWpwnCqz"
      }
    },
    {
      "cell_type": "markdown",
      "source": [
        "If my project is supervised (classification or regression), I look closely at the target column:\n",
        "\n",
        "- Is the target present only in training data and not in test?\n",
        "\n",
        "- How many unique values does it have (binary, multi-class, continuous)?\n",
        "\n",
        "- What is the distribution (balanced or imbalanced)?\n",
        "\n",
        "| Target Value | Count | Percentage |\n",
        "| ------------ | ----- | ---------- |\n",
        "| Class 0      | …     | … %        |\n",
        "| Class 1      | …     | … %        |\n",
        "| **Total**    | …     | 100%       |\n",
        "\n",
        ">If I find imbalance (e.g., 90% vs 10%), I know I’ll need to use metrics like F1-score, ROC-AUC, or balanced accuracy instead of plain accuracy."
      ],
      "metadata": {
        "id": "WXcSh-gEnPky"
      }
    },
    {
      "cell_type": "code",
      "source": [],
      "metadata": {
        "id": "cVt6UvoQnXq8"
      },
      "execution_count": null,
      "outputs": []
    },
    {
      "cell_type": "markdown",
      "source": [
        "## Missing Values Overview"
      ],
      "metadata": {
        "id": "ZvQbA4-ynXxI"
      }
    },
    {
      "cell_type": "markdown",
      "source": [
        "At this stage, I don’t fix missing values yet — I just record them.\n",
        "\n",
        "- Which columns have missing values?\n",
        "\n",
        "- What percentage of the data is missing in each column?\n",
        "\n",
        "- Does missingness look random, or is it tied to specific conditions?\n",
        "\n",
        "| Column     | Missing % | Notes                     |\n",
        "| ---------- | --------- | ------------------------- |\n",
        "| feature\\_1 | 5%        | likely missing at random  |\n",
        "| feature\\_2 | 0%        | complete                  |\n",
        "| feature\\_3 | 20%       | might depend on subgroups |\n"
      ],
      "metadata": {
        "id": "Cww33DJqng7P"
      }
    },
    {
      "cell_type": "code",
      "source": [],
      "metadata": {
        "id": "J1SCsRIgng_m"
      },
      "execution_count": null,
      "outputs": []
    },
    {
      "cell_type": "markdown",
      "source": [
        "## Quick Descriptive Stats"
      ],
      "metadata": {
        "id": "zJYyr8Q8npur"
      }
    },
    {
      "cell_type": "markdown",
      "source": [
        "I generate basic descriptive statistics to get a sense of the data:\n",
        "\n",
        "- For numeric columns: mean, median, min, max, standard deviation\n",
        "\n",
        "- For categorical columns: number of unique values, most common categories\n",
        "\n",
        "- For datetime columns: range of dates, earliest/latest record\n",
        "\n",
        "This gives me early warnings of:\n",
        "\n",
        "- Unrealistic values (e.g., negative ages, impossible dates)\n",
        "\n",
        "- Very high cardinality (e.g., 10,000 unique categories for a “city” column)\n",
        "\n",
        "- Potential outliers"
      ],
      "metadata": {
        "id": "ojZ66RtensAk"
      }
    },
    {
      "cell_type": "code",
      "source": [],
      "metadata": {
        "id": "pv7u6X93n6Zu"
      },
      "execution_count": null,
      "outputs": []
    },
    {
      "cell_type": "markdown",
      "source": [
        "## Duplicates & Keys"
      ],
      "metadata": {
        "id": "OBWWSUxOn6iu"
      }
    },
    {
      "cell_type": "markdown",
      "source": [
        "I check whether:\n",
        "\n",
        "- Each row is unique (based on the supposed key column).\n",
        "\n",
        "- There are any duplicate rows or IDs.\n",
        "\n",
        "- Keys or identifiers are truly unique — if not, I log this for cleaning later."
      ],
      "metadata": {
        "id": "FSRf-zfnoA_Q"
      }
    },
    {
      "cell_type": "code",
      "source": [],
      "metadata": {
        "id": "Wyd59gtjoElf"
      },
      "execution_count": null,
      "outputs": []
    },
    {
      "cell_type": "markdown",
      "source": [
        "## First Impressions & Notes"
      ],
      "metadata": {
        "id": "Ibny6ZIioEpW"
      }
    },
    {
      "cell_type": "markdown",
      "source": [
        "At the end of this inspection, I write down my initial thoughts:\n",
        "\n",
        "- What seems straightforward and ready to use?\n",
        "\n",
        "- Which features look suspicious or noisy?\n",
        "\n",
        "- Which areas need deeper exploration in the next step (EDA-1)?"
      ],
      "metadata": {
        "id": "5EYd8mgtoIWP"
      }
    },
    {
      "cell_type": "code",
      "source": [],
      "metadata": {
        "id": "21NbP1zFoMYJ"
      },
      "execution_count": null,
      "outputs": []
    },
    {
      "cell_type": "markdown",
      "source": [
        "## My Initial Inspection Checklist"
      ],
      "metadata": {
        "id": "QfuNhsO4oMdh"
      }
    },
    {
      "cell_type": "markdown",
      "source": [
        " - ✅ Checked dataset shape (rows, columns)\n",
        "\n",
        " - ✅ Confirmed what each row represents (granularity)\n",
        "\n",
        " - ⬜️ Reviewed variable types (numeric, categorical, datetime, text, ID)\n",
        "\n",
        " - ⬜️ Inspected target variable distribution (if applicable)\n",
        "\n",
        " - ⬜️ Logged missing values per column\n",
        "\n",
        " - ⬜️ Reviewed descriptive statistics\n",
        "\n",
        " - ⬜️ Checked for duplicates and unique IDs\n",
        "\n",
        " - ⬜️ Wrote down first impressions"
      ],
      "metadata": {
        "id": "x-yDu2vToQTD"
      }
    },
    {
      "cell_type": "code",
      "source": [],
      "metadata": {
        "id": "vIg2PZBpooty"
      },
      "execution_count": null,
      "outputs": []
    },
    {
      "cell_type": "markdown",
      "source": [
        "# Exploratory Data Analysis (EDA-1)"
      ],
      "metadata": {
        "id": "bpxPVF6poo1T"
      }
    },
    {
      "cell_type": "markdown",
      "source": [
        "**Why I Am Doing This**\n",
        "\n",
        "Now that I know the basic structure of my dataset, I want to explore it in more depth.\n",
        "The purpose of this step is not yet to build models, but to:\n",
        "\n",
        "- Understand the distribution of variables.\n",
        "\n",
        "- Detect patterns, correlations, and group differences.\n",
        "\n",
        "- Spot outliers, anomalies, or data quality issues.\n",
        "\n",
        "- Generate hypotheses about what features may matter for prediction.\n",
        "\n",
        ">EDA is about asking questions like: “What influences the target? Are there clear groups or trends? What features interact with each other?”"
      ],
      "metadata": {
        "id": "_6KsLT6-pDWV"
      }
    },
    {
      "cell_type": "markdown",
      "source": [
        "## Univariate Analysis"
      ],
      "metadata": {
        "id": "e9D5g3G4pJOG"
      }
    },
    {
      "cell_type": "markdown",
      "source": [
        "I start with one variable at a time:\n",
        "\n",
        "- Numeric features: check histograms, boxplots, and descriptive statistics.\n",
        "\n",
        "   - Are they normally distributed or skewed?\n",
        "\n",
        "   - Do they have extreme values?\n",
        "\n",
        "   - Are there obvious data entry errors?\n",
        "\n",
        "- Categorical features: check frequency counts and bar charts.\n",
        "\n",
        "   - Are some categories dominant?\n",
        "\n",
        "   - Do I have rare categories that should be grouped into “Other”?\n",
        "\n",
        "   - Is the distribution balanced or highly imbalanced?\n",
        "\n",
        "- Datetime features:\n",
        "\n",
        "   - Do I have seasonal trends?\n",
        "\n",
        "   - Is there missing coverage for certain time periods?"
      ],
      "metadata": {
        "id": "bBcgOn8GpR6f"
      }
    },
    {
      "cell_type": "code",
      "source": [],
      "metadata": {
        "id": "z93jkW_KphnN"
      },
      "execution_count": null,
      "outputs": []
    },
    {
      "cell_type": "markdown",
      "source": [
        "## Bivariate Analysis (Feature vs Target)"
      ],
      "metadata": {
        "id": "4C4ub3P6pJTq"
      }
    },
    {
      "cell_type": "markdown",
      "source": [
        "I then explore how each feature relates to the target variable.\n",
        "\n",
        "- For numeric vs target (classification): compare means/medians across target groups, visualize with boxplots or violin plots.\n",
        "\n",
        "- For categorical vs target: cross-tabulations and survival/response rates per category.\n",
        "\n",
        "- For regression problems: scatter plots and correlation with the target.\n",
        "\n",
        "Example insight (generic):\n",
        "\n",
        ">Customers in category A may have twice the probability of a positive outcome compared to category B."
      ],
      "metadata": {
        "id": "Ezw5ObcsrJHt"
      }
    },
    {
      "cell_type": "code",
      "source": [],
      "metadata": {
        "id": "NRoiJtfArOLV"
      },
      "execution_count": null,
      "outputs": []
    },
    {
      "cell_type": "markdown",
      "source": [
        "## Multivariate Analysis (Feature Interactions)"
      ],
      "metadata": {
        "id": "Qz2AFR66rOTT"
      }
    },
    {
      "cell_type": "markdown",
      "source": [
        "Some insights only appear when looking at multiple variables together:\n",
        "\n",
        "- Numeric vs numeric (scatter plots, correlation heatmaps).\n",
        "\n",
        "- Categorical vs categorical (stacked bar charts, grouped proportions).\n",
        "\n",
        "- Mixed feature interactions (e.g., does feature A matter differently depending on feature B?).\n",
        "\n",
        ">This helps me identify synergies or collinearity between variables."
      ],
      "metadata": {
        "id": "ewQoZA5CrVzW"
      }
    },
    {
      "cell_type": "code",
      "source": [],
      "metadata": {
        "id": "3LkNC5dArYdC"
      },
      "execution_count": null,
      "outputs": []
    },
    {
      "cell_type": "markdown",
      "source": [
        "## Correlation & Redundancy Check"
      ],
      "metadata": {
        "id": "cjVAF9yXrYiM"
      }
    },
    {
      "cell_type": "markdown",
      "source": [
        "For numeric variables, I check correlations:\n",
        "\n",
        "- High correlation (e.g., >0.9): indicates redundancy, I may drop one later.\n",
        "\n",
        "- Low correlation with target: doesn’t mean the feature is useless, but it sets expectations.\n",
        "\n",
        "- Multicollinearity: if many variables are correlated, I note this for modeling (especially linear models)."
      ],
      "metadata": {
        "id": "VcRMr4rUrbkw"
      }
    },
    {
      "cell_type": "code",
      "source": [],
      "metadata": {
        "id": "prgH29ylrly1"
      },
      "execution_count": null,
      "outputs": []
    },
    {
      "cell_type": "code",
      "source": [],
      "metadata": {
        "id": "pny9pP4-rl7O"
      },
      "execution_count": null,
      "outputs": []
    }
  ]
}