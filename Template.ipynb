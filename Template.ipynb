{
  "nbformat": 4,
  "nbformat_minor": 0,
  "metadata": {
    "colab": {
      "provenance": [],
      "toc_visible": true,
      "mount_file_id": "1eHt41ampHutDCFclqChTNh8ORgIYWa37",
      "authorship_tag": "ABX9TyN5VrzGfDd9B1vMQdb7V1ho",
      "include_colab_link": true
    },
    "kernelspec": {
      "name": "python3",
      "display_name": "Python 3"
    },
    "language_info": {
      "name": "python"
    }
  },
  "cells": [
    {
      "cell_type": "markdown",
      "metadata": {
        "id": "view-in-github",
        "colab_type": "text"
      },
      "source": [
        "<a href=\"https://colab.research.google.com/github/parhamvz73/Machine-Learning/blob/main/Template.ipynb\" target=\"_parent\"><img src=\"https://colab.research.google.com/assets/colab-badge.svg\" alt=\"Open In Colab\"/></a>"
      ]
    },
    {
      "cell_type": "markdown",
      "source": [
        "# Step 0: Pre-Start Phase: Setup & Preparation"
      ],
      "metadata": {
        "id": "7NzBqM7CHSIR"
      }
    },
    {
      "cell_type": "markdown",
      "source": [
        "Why I Am Doing This\n",
        "\n",
        "Before diving into project goals and data exploration, I need to make sure my `environment is ready`, my `tools are chosen`, and my `data is accessible`.\n",
        "This prevents unnecessary interruptions later."
      ],
      "metadata": {
        "id": "3b3kHT4KHTHe"
      }
    },
    {
      "cell_type": "markdown",
      "source": [
        "## Essential Installations"
      ],
      "metadata": {
        "id": "YyPPbE2eHo68"
      }
    },
    {
      "cell_type": "markdown",
      "source": [
        "I make sure the following are installed or available:\n",
        "\n",
        "- **Python (>=3.8)**\n",
        "\n",
        "- **Core Libraries**: `numpy`, `pandas`, `matplotlib`, `seaborn`\n",
        "\n",
        "- **ML Libraries**: `scikit-learn`, `xgboost` / `lightgbm`, `tensorflow` / `pytorch` (optional)\n",
        "\n",
        "- **Utilities**: `jupyter` / `colab` support, `git` for version control\n",
        "\n",
        ">In Colab, many libraries are pre-installed. On local environments, I install via `pip` or `conda`."
      ],
      "metadata": {
        "id": "A7YkQc6THpLE"
      }
    },
    {
      "cell_type": "code",
      "source": [
        "# ==========================\n",
        "# Checking python version\n",
        "# ==========================\n",
        "import sys\n",
        "print(sys.version)"
      ],
      "metadata": {
        "colab": {
          "base_uri": "https://localhost:8080/"
        },
        "id": "NKMcItkkQdVl",
        "outputId": "14ed815e-b3ac-42cc-ee40-e2841604c5c5"
      },
      "execution_count": 1,
      "outputs": [
        {
          "output_type": "stream",
          "name": "stdout",
          "text": [
            "3.12.11 (main, Jun  4 2025, 08:56:18) [GCC 11.4.0]\n"
          ]
        }
      ]
    },
    {
      "cell_type": "code",
      "source": [
        "# ==========================\n",
        "# 📦 Core Python Libraries\n",
        "# ==========================\n",
        "import numpy as np                # numerical computing (arrays, math, stats)\n",
        "import pandas as pd               # data manipulation and analysis\n",
        "\n",
        "# ==========================\n",
        "# 🎨 Visualization Libraries\n",
        "# ==========================\n",
        "import matplotlib.pyplot as plt   # plotting and charts\n",
        "import seaborn as sns             # statistical data visualization\n",
        "\n",
        "# ==========================\n",
        "# 🤖 Machine Learning Libraries\n",
        "# ==========================\n",
        "from sklearn.model_selection import train_test_split, GridSearchCV, RandomizedSearchCV, cross_val_score\n",
        "from sklearn.metrics import accuracy_score, precision_score, recall_score, f1_score, roc_auc_score, confusion_matrix, classification_report\n",
        "from sklearn.preprocessing import StandardScaler, LabelEncoder, OneHotEncoder\n",
        "from sklearn.linear_model import LogisticRegression, LinearRegression\n",
        "from sklearn.tree import DecisionTreeClassifier\n",
        "from sklearn.ensemble import RandomForestClassifier, GradientBoostingClassifier\n",
        "\n",
        "# Popular gradient boosting frameworks\n",
        "import xgboost as xgb             # XGBoost\n",
        "import lightgbm as lgb            # LightGBM\n",
        "\n",
        "# ==========================\n",
        "# 🧠 Deep Learning (Optional)\n",
        "# ==========================\n",
        "import tensorflow as tf           # TensorFlow + Keras (deep learning framework)\n",
        "import torch                      # PyTorch (alternative deep learning framework)\n"
      ],
      "metadata": {
        "id": "QdMg2IEoIDwj"
      },
      "execution_count": 2,
      "outputs": []
    },
    {
      "cell_type": "code",
      "source": [],
      "metadata": {
        "id": "56-0lcinI706"
      },
      "execution_count": null,
      "outputs": []
    },
    {
      "cell_type": "markdown",
      "source": [
        "## Device & Environment Selection"
      ],
      "metadata": {
        "id": "IQtU6pUcHfA-"
      }
    },
    {
      "cell_type": "markdown",
      "source": [
        "- Local Machine: good for small datasets, fast iterations.\n",
        "\n",
        "- Cloud Notebooks (e.g., Google Colab, Kaggle, JupyterHub): ideal for portability, GPU/TPU access.\n",
        "\n",
        "- Enterprise / Server Environment: useful for large datasets, production-like workflows.\n",
        "\n",
        ">I choose based on dataset size, compute needs, and collaboration requirements."
      ],
      "metadata": {
        "id": "vsgy8hbHHTY4"
      }
    },
    {
      "cell_type": "code",
      "source": [
        "device_name = tf.test.gpu_device_name()\n",
        "if device_name:\n",
        "    print(f\"✅ GPU is available: {device_name}\")\n",
        "else:\n",
        "    print(\"💻 Running on CPU (no GPU detected)\")"
      ],
      "metadata": {
        "colab": {
          "base_uri": "https://localhost:8080/"
        },
        "id": "ugKbpFtYHoiy",
        "outputId": "ecb0c24c-ffaa-41c9-a983-83340662097c"
      },
      "execution_count": 3,
      "outputs": [
        {
          "output_type": "stream",
          "name": "stdout",
          "text": [
            "💻 Running on CPU (no GPU detected)\n"
          ]
        }
      ]
    },
    {
      "cell_type": "code",
      "source": [],
      "metadata": {
        "id": "heUzly8NI75k"
      },
      "execution_count": null,
      "outputs": []
    },
    {
      "cell_type": "markdown",
      "source": [
        "## Importing & Accessing Data"
      ],
      "metadata": {
        "id": "EsQHBUZjID5M"
      }
    },
    {
      "cell_type": "markdown",
      "source": [
        "I make sure my dataset is available in the right place:\n",
        "\n",
        "- **CSV / Excel files**: upload to Colab, local folder, or mounted drive.\n",
        "\n",
        "- **Databases**: connect with `SQLAlchemy` or native connectors.\n",
        "\n",
        "- **APIs / External Sources**: authenticate and fetch programmatically.\n",
        "\n",
        ">Key point: I always confirm the dataset loads without errors before moving to Step 1."
      ],
      "metadata": {
        "id": "HRXCLg6nIHu0"
      }
    },
    {
      "cell_type": "code",
      "source": [
        "#Functions for reading different files and formats\n",
        "\n",
        "def import_csv(file_path: str):\n",
        "    \"\"\"\n",
        "    Loads a CSV file into a pandas DataFrame and previews the first few rows.\n",
        "\n",
        "    Parameters:\n",
        "    -----------\n",
        "    file_path : str\n",
        "        The path or URL of the CSV file.\n",
        "\n",
        "    Returns:\n",
        "    --------\n",
        "    df : pandas.DataFrame\n",
        "        The loaded DataFrame.\n",
        "    \"\"\"\n",
        "    try:\n",
        "        df = pd.read_csv(file_path)\n",
        "        print(f\"✅ Data successfully imported from: {file_path}\\n\")\n",
        "        print(f\"🔹 Shape: {df.shape[0]} rows × {df.shape[1]} columns\\n\")\n",
        "\n",
        "        print(\"🔍 Data Types:\\n\")\n",
        "        print(df.dtypes)\n",
        "        print(\"\\nℹ️ DataFrame Info:\\n\")\n",
        "        print(df.info())\n",
        "\n",
        "        return df\n",
        "    except Exception as e:\n",
        "        print(f\"❌ Error loading file: {e}\")\n",
        "        return None\n",
        "\n",
        "# What is try and except?\n",
        "# In Python, sometimes code can fail — for example:\n",
        "# File not found\n",
        "# Wrong file format\n",
        "# Network not available\n",
        "# Division by zero\n",
        "# Wrong data type\n",
        "# Instead of your whole program crashing with a scary error, you can tell Python:\n",
        "# \"Try to run this code.\n",
        "# If something goes wrong, don’t crash — instead, handle the error gracefully.\"\n",
        "# That’s what try / except does."
      ],
      "metadata": {
        "id": "gdps0PbVHThg"
      },
      "execution_count": 4,
      "outputs": []
    },
    {
      "cell_type": "code",
      "source": [
        "#Calling import functions\n",
        "df = import_csv('/content/drive/MyDrive/ML Projects/Titanic-Disaster/data/train.csv')"
      ],
      "metadata": {
        "colab": {
          "base_uri": "https://localhost:8080/"
        },
        "id": "wxqEffhgImei",
        "outputId": "d6c522ce-24fb-4d7f-e8a0-1a243622ec70"
      },
      "execution_count": 5,
      "outputs": [
        {
          "output_type": "stream",
          "name": "stdout",
          "text": [
            "✅ Data successfully imported from: /content/drive/MyDrive/ML Projects/Titanic-Disaster/data/train.csv\n",
            "\n",
            "🔹 Shape: 891 rows × 12 columns\n",
            "\n",
            "🔍 Data Types:\n",
            "\n",
            "PassengerId      int64\n",
            "Survived         int64\n",
            "Pclass           int64\n",
            "Name            object\n",
            "Sex             object\n",
            "Age            float64\n",
            "SibSp            int64\n",
            "Parch            int64\n",
            "Ticket          object\n",
            "Fare           float64\n",
            "Cabin           object\n",
            "Embarked        object\n",
            "dtype: object\n",
            "\n",
            "ℹ️ DataFrame Info:\n",
            "\n",
            "<class 'pandas.core.frame.DataFrame'>\n",
            "RangeIndex: 891 entries, 0 to 890\n",
            "Data columns (total 12 columns):\n",
            " #   Column       Non-Null Count  Dtype  \n",
            "---  ------       --------------  -----  \n",
            " 0   PassengerId  891 non-null    int64  \n",
            " 1   Survived     891 non-null    int64  \n",
            " 2   Pclass       891 non-null    int64  \n",
            " 3   Name         891 non-null    object \n",
            " 4   Sex          891 non-null    object \n",
            " 5   Age          714 non-null    float64\n",
            " 6   SibSp        891 non-null    int64  \n",
            " 7   Parch        891 non-null    int64  \n",
            " 8   Ticket       891 non-null    object \n",
            " 9   Fare         891 non-null    float64\n",
            " 10  Cabin        204 non-null    object \n",
            " 11  Embarked     889 non-null    object \n",
            "dtypes: float64(2), int64(5), object(5)\n",
            "memory usage: 83.7+ KB\n",
            "None\n"
          ]
        }
      ]
    },
    {
      "cell_type": "code",
      "source": [],
      "metadata": {
        "id": "qumUqRsvPAfY"
      },
      "execution_count": null,
      "outputs": []
    },
    {
      "cell_type": "markdown",
      "source": [
        "## Pre-Start Checklist"
      ],
      "metadata": {
        "id": "zrSSdU_bISO_"
      }
    },
    {
      "cell_type": "markdown",
      "source": [
        " - ✅ Selected device/environment (local, cloud, or server)\n",
        "\n",
        " - ⬜️ Installed required libraries and dependencies\n",
        "\n",
        " - ⬜️ Verified Python + package versions are compatible\n",
        "\n",
        " - ⬜️ Imported dataset into the environment\n",
        "\n",
        " - ⬜️ Performed a quick test load (types, info, shape and DataFrame table)"
      ],
      "metadata": {
        "id": "8ROU-D8lIVvw"
      }
    },
    {
      "cell_type": "code",
      "source": [],
      "metadata": {
        "id": "HjMjQf-dIV2m"
      },
      "execution_count": null,
      "outputs": []
    },
    {
      "cell_type": "markdown",
      "source": [
        "# Step 1: Project Overview & Problem Definition"
      ],
      "metadata": {
        "id": "Zo035f0sVmWZ"
      }
    },
    {
      "cell_type": "markdown",
      "source": [
        "**Why I Am Starting With This**\n",
        "\n",
        "Before I jump into coding, cleaning data, or building models, I want to clearly understand the problem I’m solving.\n",
        "If I don’t do this properly:\n",
        "\n",
        "1.  might waste time exploring irrelevant aspects of the data.\n",
        "\n",
        "2. I won’t know how to measure whether my model is “good enough.”\n",
        "\n",
        "3. I might accidentally draw wrong conclusions because I didn’t think about assumptions and limitations.\n",
        "\n",
        ">From my perspective, a well-defined problem statement is the foundation of any successful data science project."
      ],
      "metadata": {
        "id": "hOESOEIDXfxq"
      }
    },
    {
      "cell_type": "markdown",
      "source": [
        "## My Project Title"
      ],
      "metadata": {
        "id": "9b4dYnHyXyen"
      }
    },
    {
      "cell_type": "markdown",
      "source": [
        "I always start with a **simple** but **descriptive** project title.\n",
        "\n",
        "Weak title: ***\"Titanic Dataset\"***\n",
        "\n",
        "My title: ***\"Predicting Survival on the Titanic (Binary Classification Project)\"***\n",
        "\n",
        "This way, anyone reading my notebook will immediately know:\n",
        "\n",
        "1. What the project is about\n",
        "\n",
        "2. What type of machine learning task I am working on (classification)"
      ],
      "metadata": {
        "id": "8Gxpckj-Yj8t"
      }
    },
    {
      "cell_type": "code",
      "source": [],
      "metadata": {
        "id": "HdO33EOwY1gW"
      },
      "execution_count": null,
      "outputs": []
    },
    {
      "cell_type": "markdown",
      "source": [
        "## Background / Context"
      ],
      "metadata": {
        "id": "bQgs6B3tY79d"
      }
    },
    {
      "cell_type": "markdown",
      "source": [
        "Here I describe the story behind the dataset and why it matters to me.\n",
        "\n",
        "I always start by asking myself a few key questions:\n",
        "\n",
        "- Where does the dataset come from?\n",
        "\n",
        "- What type of information does it contain?\n",
        "\n",
        "- Why is this problem important or valuable to solve?\n",
        "\n",
        ">The dataset I am working with contains records of individuals, items, or events, along with several descriptive features. The data is intended to support the prediction or classification of an outcome variable.\n",
        "\n",
        "Why is this important for me?\n",
        "\n",
        "- It is a commonly used dataset for practicing machine learning and gives me a safe environment to improve my workflow.\n",
        "\n",
        "- It is also inspired by real-world problems, where social, demographic, business, or environmental factors have a significant impact on outcomes."
      ],
      "metadata": {
        "id": "1gZrxBkeY_Fe"
      }
    },
    {
      "cell_type": "code",
      "source": [],
      "metadata": {
        "id": "MP9UHkBoZ4OU"
      },
      "execution_count": null,
      "outputs": []
    },
    {
      "cell_type": "markdown",
      "source": [
        "## Problem Statement"
      ],
      "metadata": {
        "id": "izTnWtXpZ5QT"
      }
    },
    {
      "cell_type": "markdown",
      "source": [
        "I want to keep this short and precise.\n",
        "\n",
        "- **Input:** Features or attributes available in the dataset (e.g., numerical, categorical, or text-based variables).\n",
        "\n",
        "- **Output:** Target outcome (e.g., a binary label, a continuous value, or a category).\n",
        "\n",
        "**My problem statement:**\n",
        "\n",
        ">The goal of my project is to predict the target outcome based on the available descriptive and contextual features in the dataset."
      ],
      "metadata": {
        "id": "c8VAJHtrZ7hW"
      }
    },
    {
      "cell_type": "code",
      "source": [],
      "metadata": {
        "id": "e78sOfm0aDuq"
      },
      "execution_count": null,
      "outputs": []
    },
    {
      "cell_type": "markdown",
      "source": [
        "##Goals & Objectives"
      ],
      "metadata": {
        "id": "VJQbL7XHaD55"
      }
    },
    {
      "cell_type": "markdown",
      "source": [
        "I split my goals into primary and secondary to stay organized.\n",
        "\n",
        "**Primary Goal:**\n",
        "\n",
        "- Build a machine learning model that predicts the target variable with at least a predefined performance threshold (e.g., accuracy above 80%).\n",
        "\n",
        "**Secondary Goals:**\n",
        "\n",
        "- Perform exploratory data analysis (EDA) to discover meaningful patterns.\n",
        "\n",
        "- Visualize which groups or categories show significant differences in outcomes.\n",
        "\n",
        "- Identify the most important predictors or drivers of the target variable.\n",
        "\n",
        "- Document assumptions, challenges, and limitations clearly."
      ],
      "metadata": {
        "id": "Wev3E5UmaHyx"
      }
    },
    {
      "cell_type": "code",
      "source": [],
      "metadata": {
        "id": "gSX1ARzuasdg"
      },
      "execution_count": null,
      "outputs": []
    },
    {
      "cell_type": "markdown",
      "source": [
        "## Success Criteria & Evaluation Metrics"
      ],
      "metadata": {
        "id": "wpczyVCWauBJ"
      }
    },
    {
      "cell_type": "markdown",
      "source": [
        "For me, success means having a measurable metric that I can track.\n",
        "\n",
        "Depending on the project type, I might use:\n",
        "\n",
        "- **Classification problems:** ***Accuracy, Precision, Recall, F1-score, ROC-AUC***\n",
        "\n",
        "- **Regression problems:** ***MSE, RMSE, MAE, R²***\n",
        "\n",
        "Since evaluation criteria often depend on the project context, I will choose one primary metric and track it consistently throughout the project.\n",
        "\n",
        "| Feature   | Description     | Example |  \n",
        "|-----------|----------------|---------|  \n",
        "| Classification      | Accuracy, Precision, Recall, AUC | Accuracy (example) |  \n",
        "| Regression       | MSE, RMSE, R²   | RMSE (example)  |  \n"
      ],
      "metadata": {
        "id": "XKhDyUIdaxbu"
      }
    },
    {
      "cell_type": "code",
      "source": [],
      "metadata": {
        "id": "lLw5PiY0bVsB"
      },
      "execution_count": null,
      "outputs": []
    },
    {
      "cell_type": "markdown",
      "source": [
        "## Assumptions & Limitations"
      ],
      "metadata": {
        "id": "D8OAaJIqbV6B"
      }
    },
    {
      "cell_type": "markdown",
      "source": [
        "I want to be honest about what I assume and what might limit my work.\n",
        "\n",
        "- **My Assumptions:**\n",
        "\n",
        "  - The dataset is representative of the real-world scenario.\n",
        "\n",
        "   - Missing values can be imputed (**Imputation**: the process or method of replacing missing values in a dataset.) without introducing heavy bias.\n",
        "\n",
        "    - The provided features are sufficient to train a predictive model.\n",
        "\n",
        "- **My Limitations:**\n",
        "\n",
        "   - The dataset may be relatively small or imbalanced(**Imbalanced data** means the target variable’s classes are not represented equally.\n",
        "One class has way more examples than the other(s)).\n",
        "\n",
        "   - Some variables may contain too many missing values to be useful.\n",
        "\n",
        "   - Historical, demographic, or business biases may affect predictions.\n",
        "\n",
        ">⚠️ By writing this down, I remind myself (and anyone reading) not to over-interpret the results."
      ],
      "metadata": {
        "id": "bNIQpKXTbYC7"
      }
    },
    {
      "cell_type": "code",
      "source": [],
      "metadata": {
        "id": "X0dDTI3yb40o"
      },
      "execution_count": null,
      "outputs": []
    },
    {
      "cell_type": "markdown",
      "source": [
        "##My Project Checklist"
      ],
      "metadata": {
        "id": "gNBrEMYNb6v3"
      }
    },
    {
      "cell_type": "markdown",
      "source": [
        "I use a simple checklist to stay organized:\n",
        "\n",
        "- ✅ Define project title\n",
        "\n",
        "- ✅ Write problem statement\n",
        "\n",
        "- ⬜️ Explore dataset source and size\n",
        "\n",
        "- ⬜️ Identify target variable\n",
        "\n",
        "- ⬜️ Choose evaluation metric\n",
        "\n",
        "- ⬜️ Document assumptions and limitations"
      ],
      "metadata": {
        "id": "yOamd1zXb9cp"
      }
    },
    {
      "cell_type": "code",
      "source": [],
      "metadata": {
        "id": "c4F3v8oZcUqh"
      },
      "execution_count": null,
      "outputs": []
    },
    {
      "cell_type": "markdown",
      "source": [
        "# Step 2: Data Dictionary & Schema"
      ],
      "metadata": {
        "id": "8A30ldmxcl58"
      }
    },
    {
      "cell_type": "markdown",
      "source": [
        "Here I describe the structure of my dataset and document each column so I have a clear reference throughout the project.\n",
        "\n",
        "I always start by asking myself a few key questions:\n",
        "\n",
        "- What columns exist in the dataset?\n",
        "\n",
        "- What type of values do they contain (numeric, categorical, text, date)?\n",
        "\n",
        "- Which ones are identifiers, features, targets, or metadata?\n",
        "\n",
        "- How much missing data do I need to account for?\n",
        "\n",
        ">A well-written data dictionary helps me avoid confusion later, ensures I handle missing values correctly, and gives me a map for cleaning, encoding, and modeling."
      ],
      "metadata": {
        "id": "ibMuMnrfkkdp"
      }
    },
    {
      "cell_type": "markdown",
      "source": [
        "## Schema Overview (Template)"
      ],
      "metadata": {
        "id": "9NzkJ7qZcqQr"
      }
    },
    {
      "cell_type": "markdown",
      "source": [
        "I create a table that summarizes each column.\n",
        "\n",
        "| Column Name | Role (ID / Target / Feature / Meta) | Data Type | Unit / Format | Allowed Values / Range | Missing % | Description                                            |\n",
        "| ----------- | ----------------------------------- | --------- | ------------- | ---------------------- | --------- | ------------------------------------------------------ |\n",
        "| id          | ID                                  | integer   | unique id     | positive integers      | 0%        | Unique identifier per row                              |\n",
        "| target      | Target                              | int (0/1) | binary        | {0,1} or {yes,no}      | 0%        | The outcome variable I want to predict                 |\n",
        "| feature\\_1  | Feature                             | float     | numeric       | ≥0                     | 5%        | Continuous variable representing a measurable property |\n",
        "| feature\\_2  | Feature                             | category  | string        | {A, B, C, D}           | 0%        | Categorical variable with limited values               |\n",
        "| feature\\_3  | Feature                             | datetime  | YYYY-MM-DD    | valid date range       | 2%        | Date or time-related variable                          |\n",
        "| notes       | Meta                                | text      | free string   | n/a                    | 10%       | Optional comments or additional info                   |\n"
      ],
      "metadata": {
        "id": "Oh2nMPykkwX5"
      }
    },
    {
      "cell_type": "code",
      "source": [],
      "metadata": {
        "id": "VmrTieg8lBbF"
      },
      "execution_count": null,
      "outputs": []
    },
    {
      "cell_type": "code",
      "source": [
        "# ============================\n",
        "# 📊 Numerical Columns\n",
        "# ============================\n",
        "def get_numerical_columns(df):\n",
        "    \"\"\"\n",
        "    Returns numerical columns from a DataFrame and prints summary.\n",
        "    Includes missing values count.\n",
        "    \"\"\"\n",
        "    num_cols = df.select_dtypes(include=['int64', 'float64'])\n",
        "\n",
        "    if not num_cols.empty:\n",
        "        print(\"🔢 Numerical Columns:\")\n",
        "        print(f\"Shape: {num_cols.shape}\")\n",
        "        print(f\"Columns: {list(num_cols.columns)}\\n\")\n",
        "\n",
        "        # Missing values\n",
        "        print(\"🚨 Missing Values per Column:\")\n",
        "        print(num_cols.isnull().sum())\n",
        "        print(\"\\n📊 Summary Statistics:\\n\")\n",
        "        print(num_cols.describe().T)  # transpose for readability\n",
        "    else:\n",
        "        print(\"⚠️ No numerical columns found.\")\n",
        "\n",
        "    return num_cols\n"
      ],
      "metadata": {
        "id": "FjC74AuQD-4h"
      },
      "execution_count": 27,
      "outputs": []
    },
    {
      "cell_type": "code",
      "source": [
        "df_num = get_numerical_columns(df)"
      ],
      "metadata": {
        "colab": {
          "base_uri": "https://localhost:8080/"
        },
        "id": "N0E5M_27D-9-",
        "outputId": "fd5fe4d5-0063-4ef7-c44c-c329b9b1e3ed"
      },
      "execution_count": 33,
      "outputs": [
        {
          "output_type": "stream",
          "name": "stdout",
          "text": [
            "🔢 Numerical Columns:\n",
            "Shape: (891, 7)\n",
            "Columns: ['PassengerId', 'Survived', 'Pclass', 'Age', 'SibSp', 'Parch', 'Fare']\n",
            "\n",
            "🚨 Missing Values per Column:\n",
            "PassengerId      0\n",
            "Survived         0\n",
            "Pclass           0\n",
            "Age            177\n",
            "SibSp            0\n",
            "Parch            0\n",
            "Fare             0\n",
            "dtype: int64\n",
            "\n",
            "📊 Summary Statistics:\n",
            "\n",
            "             count        mean         std   min       25%       50%    75%  \\\n",
            "PassengerId  891.0  446.000000  257.353842  1.00  223.5000  446.0000  668.5   \n",
            "Survived     891.0    0.383838    0.486592  0.00    0.0000    0.0000    1.0   \n",
            "Pclass       891.0    2.308642    0.836071  1.00    2.0000    3.0000    3.0   \n",
            "Age          714.0   29.699118   14.526497  0.42   20.1250   28.0000   38.0   \n",
            "SibSp        891.0    0.523008    1.102743  0.00    0.0000    0.0000    1.0   \n",
            "Parch        891.0    0.381594    0.806057  0.00    0.0000    0.0000    0.0   \n",
            "Fare         891.0   32.204208   49.693429  0.00    7.9104   14.4542   31.0   \n",
            "\n",
            "                  max  \n",
            "PassengerId  891.0000  \n",
            "Survived       1.0000  \n",
            "Pclass         3.0000  \n",
            "Age           80.0000  \n",
            "SibSp          8.0000  \n",
            "Parch          6.0000  \n",
            "Fare         512.3292  \n"
          ]
        }
      ]
    },
    {
      "cell_type": "code",
      "source": [],
      "metadata": {
        "id": "_ISXTJ8rD_EH"
      },
      "execution_count": null,
      "outputs": []
    },
    {
      "cell_type": "code",
      "source": [
        "# ============================\n",
        "# 🏷️ Categorical Columns\n",
        "# ============================\n",
        "def get_categorical_columns(df):\n",
        "    \"\"\"\n",
        "    Returns categorical/object/bool columns from a DataFrame and prints summary.\n",
        "    Includes missing values count.\n",
        "    \"\"\"\n",
        "    cat_cols = df.select_dtypes(include=['object', 'category', 'bool'])\n",
        "\n",
        "    if not cat_cols.empty:\n",
        "        print(\"🏷️ Categorical Columns:\")\n",
        "        print(f\"Shape: {cat_cols.shape}\")\n",
        "        print(f\"Columns: {list(cat_cols.columns)}\\n\")\n",
        "\n",
        "        # Missing values\n",
        "        print(\"🚨 Missing Values per Column:\")\n",
        "        print(cat_cols.isnull().sum())\n",
        "        print(\"\\n🔎 Unique Values per Column:\\n\")\n",
        "        for col in cat_cols.columns:\n",
        "            print(f\"{col}: {cat_cols[col].nunique()} unique values\")\n",
        "    else:\n",
        "        print(\"⚠️ No categorical columns found.\")\n",
        "\n",
        "    return cat_cols\n"
      ],
      "metadata": {
        "id": "KTQDx3SbESMz"
      },
      "execution_count": 29,
      "outputs": []
    },
    {
      "cell_type": "code",
      "source": [
        "df_cat = get_categorical_columns(df)"
      ],
      "metadata": {
        "colab": {
          "base_uri": "https://localhost:8080/"
        },
        "id": "8TFPtKDrETo9",
        "outputId": "ac15702b-a5af-4668-abdc-f80150a675e0"
      },
      "execution_count": 32,
      "outputs": [
        {
          "output_type": "stream",
          "name": "stdout",
          "text": [
            "🏷️ Categorical Columns:\n",
            "Shape: (891, 5)\n",
            "Columns: ['Name', 'Sex', 'Ticket', 'Cabin', 'Embarked']\n",
            "\n",
            "🚨 Missing Values per Column:\n",
            "Name          0\n",
            "Sex           0\n",
            "Ticket        0\n",
            "Cabin       687\n",
            "Embarked      2\n",
            "dtype: int64\n",
            "\n",
            "🔎 Unique Values per Column:\n",
            "\n",
            "Name: 891 unique values\n",
            "Sex: 2 unique values\n",
            "Ticket: 681 unique values\n",
            "Cabin: 147 unique values\n",
            "Embarked: 3 unique values\n"
          ]
        }
      ]
    },
    {
      "cell_type": "code",
      "source": [],
      "metadata": {
        "id": "gSYLm_O_ET2d"
      },
      "execution_count": null,
      "outputs": []
    },
    {
      "cell_type": "code",
      "source": [
        "# ============================\n",
        "# 📅 Datetime Columns\n",
        "# ============================\n",
        "def get_datetime_columns(df):\n",
        "    \"\"\"\n",
        "    Returns datetime columns from a DataFrame and prints summary.\n",
        "    \"\"\"\n",
        "    dt_cols = df.select_dtypes(include=['datetime64'])\n",
        "\n",
        "    if not dt_cols.empty:\n",
        "        print(\"📅 Datetime Columns:\")\n",
        "        print(f\"Shape: {dt_cols.shape}\")\n",
        "        print(f\"Columns: {list(dt_cols.columns)}\\n\")\n",
        "        print(\"Summary:\\n\")\n",
        "        for col in dt_cols.columns:\n",
        "            print(f\"{col}: min={dt_cols[col].min()}, max={dt_cols[col].max()}\")\n",
        "    else:\n",
        "        print(\"⚠️ No datetime columns found.\")\n",
        "\n",
        "    return dt_cols\n"
      ],
      "metadata": {
        "id": "QaIpyAD3EdCN"
      },
      "execution_count": 25,
      "outputs": []
    },
    {
      "cell_type": "code",
      "source": [
        "df_date = get_datetime_columns(df)"
      ],
      "metadata": {
        "colab": {
          "base_uri": "https://localhost:8080/"
        },
        "id": "HrFY-YQEEdF9",
        "outputId": "7a385ca8-ab04-449c-b83a-49f3c05254e9"
      },
      "execution_count": 31,
      "outputs": [
        {
          "output_type": "stream",
          "name": "stdout",
          "text": [
            "⚠️ No datetime columns found.\n"
          ]
        }
      ]
    },
    {
      "cell_type": "code",
      "source": [],
      "metadata": {
        "id": "71rqWThwEeAH"
      },
      "execution_count": null,
      "outputs": []
    },
    {
      "cell_type": "markdown",
      "source": [
        "## Field-by-Field Notes"
      ],
      "metadata": {
        "id": "EyIpOG2elBvO"
      }
    },
    {
      "cell_type": "markdown",
      "source": [
        "Sometimes a table is not enough. For important variables, I write a short explanation:\n",
        "\n",
        "- **Target Variable:**\n",
        "\n",
        ">This is the label I am trying to predict. It is only present in the training set and absent in the test set. I also check its distribution to see if it is balanced or imbalanced.\n",
        "\n",
        "- **Identifiers:**\n",
        "\n",
        ">Unique IDs are useful for joining or submissions but not included in the model.\n",
        "\n",
        "- **Categorical Features:**\n",
        "\n",
        ">I note all distinct categories and check if rare levels exist that should be grouped into “Other.”\n",
        "\n",
        "- **Datetime Features:**\n",
        "\n",
        ">For date fields, I record the format, timezone, and coverage period. Later I might extract useful components like year, month, or weekday.\n",
        "\n",
        "- **Numeric Features:**\n",
        "\n",
        ">I record valid ranges and units. If there are impossible values (e.g., negatives where not expected), I log them for correction."
      ],
      "metadata": {
        "id": "vXH5a7H0lDS6"
      }
    },
    {
      "cell_type": "code",
      "source": [],
      "metadata": {
        "id": "eKp_9cfclRTK"
      },
      "execution_count": null,
      "outputs": []
    },
    {
      "cell_type": "markdown",
      "source": [
        "## Missingness Audit"
      ],
      "metadata": {
        "id": "lCdA95VGlRb3"
      }
    },
    {
      "cell_type": "markdown",
      "source": [
        "I check how many missing values exist in each column and plan how to handle them.\n",
        "\n",
        "| Column     | Missing % | Possible Reason    | Imputation Plan                  |\n",
        "| ---------- | --------- | ------------------ | -------------------------------- |\n",
        "| feature\\_1 | 5%        | data not recorded  | fill with median or group median |\n",
        "| feature\\_3 | 2%        | occasional errors  | forward fill / interpolation     |\n",
        "| notes      | 10%       | optional free text | ignore for modeling              |\n"
      ],
      "metadata": {
        "id": "-TZvSsb5lVmk"
      }
    },
    {
      "cell_type": "code",
      "source": [],
      "metadata": {
        "id": "g0cNNrz8lcAo"
      },
      "execution_count": null,
      "outputs": []
    },
    {
      "cell_type": "markdown",
      "source": [
        "## Categorical Levels & Encoding Plan"
      ],
      "metadata": {
        "id": "0y8AUCnRlcHV"
      }
    },
    {
      "cell_type": "markdown",
      "source": [
        "For each categorical feature, I plan how I will encode it:\n",
        "\n",
        "- feature_2: 4 levels {A, B, C, D} → one-hot encoding\n",
        "\n",
        "- feature_city: 200+ levels → group rare categories into “Other,” then one-hot encode\n",
        "\n",
        "- feature_quality: ordinal {low, medium, high} → label encoding with order"
      ],
      "metadata": {
        "id": "37rXNmkplfs_"
      }
    },
    {
      "cell_type": "code",
      "source": [],
      "metadata": {
        "id": "014SKMNMlf5B"
      },
      "execution_count": null,
      "outputs": []
    },
    {
      "cell_type": "markdown",
      "source": [
        "## Planned Derived Features"
      ],
      "metadata": {
        "id": "a1IZo4K8lnHl"
      }
    },
    {
      "cell_type": "markdown",
      "source": [
        "I also note any new features I may create later:\n",
        "\n",
        "`feature_ratio = feature_a / feature_b`\n",
        "\n",
        "`days_since_event = current_date - feature_3`\n",
        "\n",
        "`is_missing_flag = 1 if feature_1 is missing, else 0`"
      ],
      "metadata": {
        "id": "3cPWNZ-Qloz7"
      }
    },
    {
      "cell_type": "code",
      "source": [],
      "metadata": {
        "id": "rVtZm50el0uL"
      },
      "execution_count": null,
      "outputs": []
    },
    {
      "cell_type": "markdown",
      "source": [
        "## My Data Dictionary Checklist"
      ],
      "metadata": {
        "id": "doE7_3CKl02v"
      }
    },
    {
      "cell_type": "markdown",
      "source": [
        "- ✅ I listed all columns with descriptions\n",
        "\n",
        "- ✅ I defined data types and valid ranges\n",
        "\n",
        "- ⬜️ I recorded missingness per column\n",
        "\n",
        "- ⬜️ I assigned roles (ID, Target, Feature, Meta)\n",
        "\n",
        "- ⬜️ I drafted encoding and imputation strategies\n",
        "\n",
        "- ⬜️ I logged potential derived features"
      ],
      "metadata": {
        "id": "2Hh0fO5Ql4PH"
      }
    },
    {
      "cell_type": "code",
      "source": [],
      "metadata": {
        "id": "MFHJgJSwmFJ_"
      },
      "execution_count": null,
      "outputs": []
    },
    {
      "cell_type": "markdown",
      "source": [
        "# Step 3: Dataset Overview & Initial Inspection (EDA-0)"
      ],
      "metadata": {
        "id": "N7PElkH1mFSC"
      }
    },
    {
      "cell_type": "markdown",
      "source": [
        "Why I Am Doing This\n",
        "\n",
        "Before I clean, transform, or model anything, I want to get familiar with the dataset at a high level.\n",
        "This is like taking a first walk through the data:\n",
        "\n",
        "- How many rows and columns are there?\n",
        "\n",
        "- What types of variables am I dealing with?\n",
        "\n",
        "- How balanced is the target variable?\n",
        "\n",
        "- Do I notice any immediate problems (missing values, duplicates, strange outliers)?\n",
        "\n",
        ">The goal here is not deep analysis yet — just basic orientation so I know what I’m working with."
      ],
      "metadata": {
        "id": "X-kGB48zmXoc"
      }
    },
    {
      "cell_type": "markdown",
      "source": [
        "## Dataset Snapshot"
      ],
      "metadata": {
        "id": "zfO8C8oMmTuf"
      }
    },
    {
      "cell_type": "markdown",
      "source": [
        "The first thing I check is the basic shape and structure of the dataset.\n",
        "\n",
        "- Number of rows: total observations (how many examples I have)\n",
        "\n",
        "- Number of columns: total features (how many variables I can work with)\n",
        "\n",
        "- Granularity: what each row represents (an individual, a transaction, a product, a time series point, etc.)\n",
        "\n",
        "- Files / splits: do I have train.csv / test.csv, or just one dataset to split myself?\n",
        "\n",
        "I also want to confirm if the dataset is small, medium, or large, since that affects how I’ll handle computation."
      ],
      "metadata": {
        "id": "3iw-kykRmrBE"
      }
    },
    {
      "cell_type": "code",
      "source": [],
      "metadata": {
        "id": "9i_mB25ym41r"
      },
      "execution_count": null,
      "outputs": []
    },
    {
      "cell_type": "markdown",
      "source": [
        "## Data Types & Structure"
      ],
      "metadata": {
        "id": "B_FSHkstm5ca"
      }
    },
    {
      "cell_type": "markdown",
      "source": [
        "I then review the types of variables:\n",
        "\n",
        "- Numeric (continuous / discrete): e.g., age, income, counts\n",
        "\n",
        "- Categorical (nominal / ordinal): e.g., gender, class, quality rating\n",
        "\n",
        "- Datetime / temporal: e.g., order date, timestamp\n",
        "\n",
        "- Text / free-form: e.g., comments, names, reviews\n",
        "\n",
        "- Identifiers / keys: unique IDs, transaction numbers\n",
        "\n",
        ">This helps me plan how I’ll encode variables later (scaling for numbers, one-hot encoding for categories, extracting components for dates, etc.)."
      ],
      "metadata": {
        "id": "lGQEBmiGm8_6"
      }
    },
    {
      "cell_type": "code",
      "source": [],
      "metadata": {
        "id": "3wIJ6IPbnCkV"
      },
      "execution_count": null,
      "outputs": []
    },
    {
      "cell_type": "markdown",
      "source": [
        "## Target Variable (for Supervised Projects)"
      ],
      "metadata": {
        "id": "B8yQUWpwnCqz"
      }
    },
    {
      "cell_type": "markdown",
      "source": [
        "If my project is supervised (classification or regression), I look closely at the target column:\n",
        "\n",
        "- Is the target present only in training data and not in test?\n",
        "\n",
        "- How many unique values does it have (binary, multi-class, continuous)?\n",
        "\n",
        "- What is the distribution (balanced or imbalanced)?\n",
        "\n",
        "| Target Value | Count | Percentage |\n",
        "| ------------ | ----- | ---------- |\n",
        "| Class 0      | …     | … %        |\n",
        "| Class 1      | …     | … %        |\n",
        "| **Total**    | …     | 100%       |\n",
        "\n",
        ">If I find imbalance (e.g., 90% vs 10%), I know I’ll need to use metrics like F1-score, ROC-AUC, or balanced accuracy instead of plain accuracy."
      ],
      "metadata": {
        "id": "WXcSh-gEnPky"
      }
    },
    {
      "cell_type": "code",
      "source": [],
      "metadata": {
        "id": "cVt6UvoQnXq8"
      },
      "execution_count": null,
      "outputs": []
    },
    {
      "cell_type": "markdown",
      "source": [
        "## Missing Values Overview"
      ],
      "metadata": {
        "id": "ZvQbA4-ynXxI"
      }
    },
    {
      "cell_type": "markdown",
      "source": [
        "At this stage, I don’t fix missing values yet — I just record them.\n",
        "\n",
        "- Which columns have missing values?\n",
        "\n",
        "- What percentage of the data is missing in each column?\n",
        "\n",
        "- Does missingness look random, or is it tied to specific conditions?\n",
        "\n",
        "| Column     | Missing % | Notes                     |\n",
        "| ---------- | --------- | ------------------------- |\n",
        "| feature\\_1 | 5%        | likely missing at random  |\n",
        "| feature\\_2 | 0%        | complete                  |\n",
        "| feature\\_3 | 20%       | might depend on subgroups |\n"
      ],
      "metadata": {
        "id": "Cww33DJqng7P"
      }
    },
    {
      "cell_type": "code",
      "source": [],
      "metadata": {
        "id": "J1SCsRIgng_m"
      },
      "execution_count": null,
      "outputs": []
    },
    {
      "cell_type": "code",
      "source": [
        "def analyze_target(df, target_col):\n",
        "    \"\"\"\n",
        "    Analyze the target column in a dataset:\n",
        "    - Check if target exists\n",
        "    - Count unique values\n",
        "    - Identify problem type (binary, multi-class, regression)\n",
        "    - Show distribution and balance\n",
        "\n",
        "    Parameters:\n",
        "    -----------\n",
        "    df : pandas.DataFrame\n",
        "        The dataset\n",
        "    target_col : str\n",
        "        The name of the target column\n",
        "\n",
        "    Returns:\n",
        "    --------\n",
        "    dict\n",
        "        Dictionary with analysis results\n",
        "    \"\"\"\n",
        "    if target_col not in df.columns:\n",
        "        print(f\"❌ Target column '{target_col}' not found in DataFrame.\")\n",
        "        return None\n",
        "\n",
        "    target = df[target_col]\n",
        "\n",
        "    # Unique values\n",
        "    unique_vals = target.nunique()\n",
        "\n",
        "    # Detect problem type\n",
        "    if pd.api.types.is_numeric_dtype(target):\n",
        "        if unique_vals <= 20:  # numeric but small number of classes\n",
        "            if unique_vals == 2:\n",
        "                problem_type = \"Binary Classification\"\n",
        "            else:\n",
        "                problem_type = \"Multi-class Classification\"\n",
        "        else:\n",
        "            problem_type = \"Regression (Continuous)\"\n",
        "    else:\n",
        "        if unique_vals == 2:\n",
        "            problem_type = \"Binary Classification\"\n",
        "        else:\n",
        "            problem_type = \"Multi-class Classification\"\n",
        "\n",
        "    # Distribution\n",
        "    print(f\"🎯 Target Column: {target_col}\")\n",
        "    print(f\"📊 Unique Values: {unique_vals}\")\n",
        "    print(f\"🧩 Problem Type: {problem_type}\\n\")\n",
        "\n",
        "    print(\"🔎 Distribution:\")\n",
        "    value_counts = target.value_counts(dropna=False)\n",
        "    print(value_counts)\n",
        "    print(\"\\n📐 Percentage Distribution:\")\n",
        "    print((value_counts / len(target) * 100).round(2).astype(str) + '%')\n",
        "\n",
        "    # Check imbalance (simple rule: minority class <20% of majority)\n",
        "    if problem_type in [\"Binary Classification\", \"Multi-class Classification\"]:\n",
        "        ratio = value_counts.max() / value_counts.min()\n",
        "        if ratio > 4:  # adjustable threshold\n",
        "            balance_note = \"⚠️ Imbalanced target\"\n",
        "        else:\n",
        "            balance_note = \"✅ Balanced target\"\n",
        "        print(f\"\\n⚖️ Balance Check: {balance_note}\")\n",
        "    else:\n",
        "        print(\"\\n⚖️ Balance Check: Not applicable for regression.\")\n",
        "\n",
        "    return {\n",
        "        \"target\": target_col,\n",
        "        \"unique_values\": unique_vals,\n",
        "        \"problem_type\": problem_type,\n",
        "        \"distribution\": value_counts.to_dict()\n",
        "    }\n"
      ],
      "metadata": {
        "id": "93zcc9WFHFeO"
      },
      "execution_count": 35,
      "outputs": []
    },
    {
      "cell_type": "code",
      "source": [
        "df_target = analyze_target(df, 'Survived')"
      ],
      "metadata": {
        "colab": {
          "base_uri": "https://localhost:8080/"
        },
        "id": "QZcnqaTlHFiY",
        "outputId": "96912d6c-9a1e-4163-b4bc-e43f7165df6e"
      },
      "execution_count": 36,
      "outputs": [
        {
          "output_type": "stream",
          "name": "stdout",
          "text": [
            "🎯 Target Column: Survived\n",
            "📊 Unique Values: 2\n",
            "🧩 Problem Type: Binary Classification\n",
            "\n",
            "🔎 Distribution:\n",
            "Survived\n",
            "0    549\n",
            "1    342\n",
            "Name: count, dtype: int64\n",
            "\n",
            "📐 Percentage Distribution:\n",
            "Survived\n",
            "0    61.62%\n",
            "1    38.38%\n",
            "Name: count, dtype: object\n",
            "\n",
            "⚖️ Balance Check: ✅ Balanced target\n"
          ]
        }
      ]
    },
    {
      "cell_type": "code",
      "source": [],
      "metadata": {
        "id": "EjI35jABHFmM"
      },
      "execution_count": null,
      "outputs": []
    },
    {
      "cell_type": "markdown",
      "source": [
        "## Quick Descriptive Stats"
      ],
      "metadata": {
        "id": "zJYyr8Q8npur"
      }
    },
    {
      "cell_type": "markdown",
      "source": [
        "I generate basic descriptive statistics to get a sense of the data:\n",
        "\n",
        "- For numeric columns: mean, median, min, max, standard deviation\n",
        "\n",
        "- For categorical columns: number of unique values, most common categories\n",
        "\n",
        "- For datetime columns: range of dates, earliest/latest record\n",
        "\n",
        "This gives me early warnings of:\n",
        "\n",
        "- Unrealistic values (e.g., negative ages, impossible dates)\n",
        "\n",
        "- Very high cardinality (e.g., 10,000 unique categories for a “city” column)\n",
        "\n",
        "- Potential outliers"
      ],
      "metadata": {
        "id": "ojZ66RtensAk"
      }
    },
    {
      "cell_type": "code",
      "source": [],
      "metadata": {
        "id": "pv7u6X93n6Zu"
      },
      "execution_count": null,
      "outputs": []
    },
    {
      "cell_type": "markdown",
      "source": [
        "## Duplicates & Keys"
      ],
      "metadata": {
        "id": "OBWWSUxOn6iu"
      }
    },
    {
      "cell_type": "markdown",
      "source": [
        "I check whether:\n",
        "\n",
        "- Each row is unique (based on the supposed key column).\n",
        "\n",
        "- There are any duplicate rows or IDs.\n",
        "\n",
        "- Keys or identifiers are truly unique — if not, I log this for cleaning later."
      ],
      "metadata": {
        "id": "FSRf-zfnoA_Q"
      }
    },
    {
      "cell_type": "code",
      "source": [],
      "metadata": {
        "id": "Wyd59gtjoElf"
      },
      "execution_count": null,
      "outputs": []
    },
    {
      "cell_type": "code",
      "source": [
        "import pandas as pd\n",
        "\n",
        "def analyze_identifier(df: pd.DataFrame, id_col: str):\n",
        "    \"\"\"\n",
        "    Analyze an identifier column:\n",
        "    - existence check\n",
        "    - dtype, nulls\n",
        "    - unique count\n",
        "    - duplicate-ID summary (which IDs repeat and how many times)\n",
        "\n",
        "    Returns:\n",
        "      {\n",
        "        'id_col': str,\n",
        "        'dtype': dtype,\n",
        "        'n_rows': int,\n",
        "        'n_null': int,\n",
        "        'n_unique': int,\n",
        "        'n_duplicate_ids': int,     # number of ID values that appear >1\n",
        "        'duplicate_ids_summary': pd.DataFrame,  # columns: [id_col, count]\n",
        "        'rows_with_duplicate_ids': pd.DataFrame # all rows where ID repeats\n",
        "      }\n",
        "    \"\"\"\n",
        "    if id_col not in df.columns:\n",
        "        print(f\"❌ Column '{id_col}' not found.\")\n",
        "        return None\n",
        "\n",
        "    n_rows = len(df)\n",
        "    dtype = df[id_col].dtype\n",
        "    n_null = df[id_col].isna().sum()\n",
        "    n_unique = df[id_col].nunique(dropna=False)\n",
        "\n",
        "    # IDs that repeat (value_counts > 1)\n",
        "    vc = df[id_col].value_counts(dropna=False)\n",
        "    dup_ids_summary = (\n",
        "        vc[vc > 1]\n",
        "        .sort_values(ascending=False)\n",
        "        .rename('count')\n",
        "        .reset_index()\n",
        "        .rename(columns={'index': id_col})\n",
        "    )\n",
        "    n_dup_ids = len(dup_ids_summary)\n",
        "\n",
        "    # All rows where the ID is duplicated (to inspect)\n",
        "    rows_with_dup_ids = df[df[id_col].duplicated(keep=False)].sort_values(by=id_col)\n",
        "\n",
        "    # Pretty print\n",
        "    print(f\"🔎 Identifier analysis for '{id_col}':\")\n",
        "    print(f\"• Rows: {n_rows}\")\n",
        "    print(f\"• Dtype: {dtype}\")\n",
        "    print(f\"• Nulls: {n_null}\")\n",
        "    print(f\"• Unique (incl. NaN): {n_unique}\")\n",
        "    print(f\"• Distinct IDs that repeat (>1): {n_dup_ids}\")\n",
        "\n",
        "    if n_dup_ids > 0:\n",
        "        print(\"\\n📋 Top repeating IDs (head):\")\n",
        "        display(dup_ids_summary.head(10))\n",
        "    else:\n",
        "        print(\"\\n✅ No repeating IDs found.\")\n",
        "\n",
        "    return {\n",
        "        'id_col': id_col,\n",
        "        'dtype': dtype,\n",
        "        'n_rows': n_rows,\n",
        "        'n_null': n_null,\n",
        "        'n_unique': n_unique,\n",
        "        'n_duplicate_ids': n_dup_ids,\n",
        "        'duplicate_ids_summary': dup_ids_summary,\n",
        "        'rows_with_duplicate_ids': rows_with_dup_ids\n",
        "    }\n"
      ],
      "metadata": {
        "id": "kMDWSRePI1DP"
      },
      "execution_count": 37,
      "outputs": []
    },
    {
      "cell_type": "code",
      "source": [
        "df_ID = analyze_identifier  (df, 'PassengerId')"
      ],
      "metadata": {
        "colab": {
          "base_uri": "https://localhost:8080/"
        },
        "id": "V0XX9Td9I1HZ",
        "outputId": "7fe105c9-8e4e-44d7-a6ec-07ea1136db8c"
      },
      "execution_count": 39,
      "outputs": [
        {
          "output_type": "stream",
          "name": "stdout",
          "text": [
            "🔎 Identifier analysis for 'PassengerId':\n",
            "• Rows: 891\n",
            "• Dtype: int64\n",
            "• Nulls: 0\n",
            "• Unique (incl. NaN): 891\n",
            "• Distinct IDs that repeat (>1): 0\n",
            "\n",
            "✅ No repeating IDs found.\n"
          ]
        }
      ]
    },
    {
      "cell_type": "code",
      "source": [],
      "metadata": {
        "id": "gcxCNG7uI8mn"
      },
      "execution_count": null,
      "outputs": []
    },
    {
      "cell_type": "code",
      "source": [
        "def find_exact_duplicates(df: pd.DataFrame, subset: list | None = None):\n",
        "    \"\"\"\n",
        "    Find exact duplicate rows.\n",
        "\n",
        "    Parameters:\n",
        "      df: DataFrame to analyze (can be full df or a filtered subset like duplicate-ID rows)\n",
        "      subset: list of column names to consider for equality (None = all columns)\n",
        "\n",
        "    Returns:\n",
        "      {\n",
        "        'n_exact_duplicates': int,             # count of rows that are duplicates (not unique)\n",
        "        'exact_duplicate_rows': pd.DataFrame,  # all rows that have duplicates\n",
        "        'duplicate_groups': dict               # {fingerprint: row_indices} groups of identical rows\n",
        "      }\n",
        "    \"\"\"\n",
        "    # Mask of rows that are duplicates (mark all members of duplicate groups)\n",
        "    mask = df.duplicated(subset=subset, keep=False)\n",
        "    dup_rows = df[mask]\n",
        "\n",
        "    # Build simple group keys to show which rows are identical\n",
        "    if subset is None:\n",
        "        subset = df.columns.tolist()\n",
        "\n",
        "    # Create a fingerprint (tuple of values) per row across the subset\n",
        "    # Use fillna to make NaNs comparable in the tuple\n",
        "    fp_series = df[subset].apply(lambda r: tuple([('_NaN_' if pd.isna(v) else v) for v in r]), axis=1)\n",
        "    groups = {}\n",
        "    for idx, fp in fp_series[mask].items():\n",
        "        groups.setdefault(fp, []).append(idx)\n",
        "\n",
        "    # Keep only groups with size > 1\n",
        "    groups = {fp: idxs for fp, idxs in groups.items() if len(idxs) > 1}\n",
        "\n",
        "    print(\"🔁 Exact duplicate rows check:\")\n",
        "    if dup_rows.empty:\n",
        "        print(\"✅ No exact duplicate rows found (under given subset).\")\n",
        "    else:\n",
        "        print(f\"• Rows involved in duplicates: {len(dup_rows)}\")\n",
        "        print(f\"• Number of duplicate groups: {len(groups)}\")\n",
        "        # Show a small preview\n",
        "        if len(dup_rows) > 0:\n",
        "            print(\"\\n📋 Preview of duplicate rows (head):\")\n",
        "            display(dup_rows.head(10))\n",
        "\n",
        "        # Optionally show group sizes summary\n",
        "        sizes = pd.Series([len(v) for v in groups.values()]).value_counts().sort_index()\n",
        "        print(\"\\n📦 Group size distribution (how many groups of size k):\")\n",
        "        display(pd.DataFrame({'group_size': sizes.index, 'n_groups': sizes.values}))\n",
        "\n",
        "    return {\n",
        "        'n_exact_duplicates': len(dup_rows),\n",
        "        'exact_duplicate_rows': dup_rows,\n",
        "        'duplicate_groups': groups\n",
        "    }\n"
      ],
      "metadata": {
        "id": "NjObL7vwI1Lv"
      },
      "execution_count": 38,
      "outputs": []
    },
    {
      "cell_type": "code",
      "source": [
        "df_duplicates = find_exact_duplicates(df)"
      ],
      "metadata": {
        "colab": {
          "base_uri": "https://localhost:8080/"
        },
        "id": "N0Yh7L3XI1Po",
        "outputId": "f842980d-5e83-4b9e-be43-da8dad784f36"
      },
      "execution_count": 41,
      "outputs": [
        {
          "output_type": "stream",
          "name": "stdout",
          "text": [
            "🔁 Exact duplicate rows check:\n",
            "✅ No exact duplicate rows found (under given subset).\n"
          ]
        }
      ]
    },
    {
      "cell_type": "code",
      "source": [],
      "metadata": {
        "id": "0VD0SGu5I9YJ"
      },
      "execution_count": null,
      "outputs": []
    },
    {
      "cell_type": "markdown",
      "source": [
        "## First Impressions & Notes"
      ],
      "metadata": {
        "id": "Ibny6ZIioEpW"
      }
    },
    {
      "cell_type": "markdown",
      "source": [
        "At the end of this inspection, I write down my initial thoughts:\n",
        "\n",
        "- What seems straightforward and ready to use?\n",
        "\n",
        "- Which features look suspicious or noisy?\n",
        "\n",
        "- Which areas need deeper exploration in the next step (EDA-1)?"
      ],
      "metadata": {
        "id": "5EYd8mgtoIWP"
      }
    },
    {
      "cell_type": "code",
      "source": [],
      "metadata": {
        "id": "21NbP1zFoMYJ"
      },
      "execution_count": null,
      "outputs": []
    },
    {
      "cell_type": "markdown",
      "source": [
        "## My Initial Inspection Checklist"
      ],
      "metadata": {
        "id": "QfuNhsO4oMdh"
      }
    },
    {
      "cell_type": "markdown",
      "source": [
        " - ✅ Checked dataset shape (rows, columns)\n",
        "\n",
        " - ✅ Confirmed what each row represents (granularity)\n",
        "\n",
        " - ⬜️ Reviewed variable types (numeric, categorical, datetime, text, ID)\n",
        "\n",
        " - ⬜️ Inspected target variable distribution (if applicable)\n",
        "\n",
        " - ⬜️ Logged missing values per column\n",
        "\n",
        " - ⬜️ Reviewed descriptive statistics\n",
        "\n",
        " - ⬜️ Checked for duplicates and unique IDs\n",
        "\n",
        " - ⬜️ Wrote down first impressions"
      ],
      "metadata": {
        "id": "x-yDu2vToQTD"
      }
    },
    {
      "cell_type": "code",
      "source": [],
      "metadata": {
        "id": "vIg2PZBpooty"
      },
      "execution_count": null,
      "outputs": []
    },
    {
      "cell_type": "markdown",
      "source": [
        "# Step 4: Exploratory Data Analysis (EDA-1)"
      ],
      "metadata": {
        "id": "bpxPVF6poo1T"
      }
    },
    {
      "cell_type": "markdown",
      "source": [
        "**Why I Am Doing This**\n",
        "\n",
        "Now that I know the basic structure of my dataset, I want to explore it in more depth.\n",
        "The purpose of this step is not yet to build models, but to:\n",
        "\n",
        "- Understand the distribution of variables.\n",
        "\n",
        "- Detect patterns, correlations, and group differences.\n",
        "\n",
        "- Spot outliers, anomalies, or data quality issues.\n",
        "\n",
        "- Generate hypotheses about what features may matter for prediction.\n",
        "\n",
        ">EDA is about asking questions like: “What influences the target? Are there clear groups or trends? What features interact with each other?”"
      ],
      "metadata": {
        "id": "_6KsLT6-pDWV"
      }
    },
    {
      "cell_type": "markdown",
      "source": [
        "## Univariate Analysis"
      ],
      "metadata": {
        "id": "e9D5g3G4pJOG"
      }
    },
    {
      "cell_type": "markdown",
      "source": [
        "I start with one variable at a time:\n",
        "\n",
        "- Numeric features: check histograms, boxplots, and descriptive statistics.\n",
        "\n",
        "   - Are they normally distributed or skewed?\n",
        "\n",
        "   - Do they have extreme values?\n",
        "\n",
        "   - Are there obvious data entry errors?\n",
        "\n",
        "- Categorical features: check frequency counts and bar charts.\n",
        "\n",
        "   - Are some categories dominant?\n",
        "\n",
        "   - Do I have rare categories that should be grouped into “Other”?\n",
        "\n",
        "   - Is the distribution balanced or highly imbalanced?\n",
        "\n",
        "- Datetime features:\n",
        "\n",
        "   - Do I have seasonal trends?\n",
        "\n",
        "   - Is there missing coverage for certain time periods?"
      ],
      "metadata": {
        "id": "bBcgOn8GpR6f"
      }
    },
    {
      "cell_type": "code",
      "source": [],
      "metadata": {
        "id": "z93jkW_KphnN"
      },
      "execution_count": null,
      "outputs": []
    },
    {
      "cell_type": "markdown",
      "source": [
        "## Bivariate Analysis (Feature vs Target)"
      ],
      "metadata": {
        "id": "4C4ub3P6pJTq"
      }
    },
    {
      "cell_type": "markdown",
      "source": [
        "I then explore how each feature relates to the target variable.\n",
        "\n",
        "- For numeric vs target (classification): compare means/medians across target groups, visualize with boxplots or violin plots.\n",
        "\n",
        "- For categorical vs target: cross-tabulations and survival/response rates per category.\n",
        "\n",
        "- For regression problems: scatter plots and correlation with the target.\n",
        "\n",
        "Example insight (generic):\n",
        "\n",
        ">Customers in category A may have twice the probability of a positive outcome compared to category B."
      ],
      "metadata": {
        "id": "Ezw5ObcsrJHt"
      }
    },
    {
      "cell_type": "code",
      "source": [],
      "metadata": {
        "id": "NRoiJtfArOLV"
      },
      "execution_count": null,
      "outputs": []
    },
    {
      "cell_type": "markdown",
      "source": [
        "## Multivariate Analysis (Feature Interactions)"
      ],
      "metadata": {
        "id": "Qz2AFR66rOTT"
      }
    },
    {
      "cell_type": "markdown",
      "source": [
        "Some insights only appear when looking at multiple variables together:\n",
        "\n",
        "- Numeric vs numeric (scatter plots, correlation heatmaps).\n",
        "\n",
        "- Categorical vs categorical (stacked bar charts, grouped proportions).\n",
        "\n",
        "- Mixed feature interactions (e.g., does feature A matter differently depending on feature B?).\n",
        "\n",
        ">This helps me identify synergies or collinearity between variables."
      ],
      "metadata": {
        "id": "ewQoZA5CrVzW"
      }
    },
    {
      "cell_type": "code",
      "source": [],
      "metadata": {
        "id": "3LkNC5dArYdC"
      },
      "execution_count": null,
      "outputs": []
    },
    {
      "cell_type": "markdown",
      "source": [
        "## Correlation & Redundancy Check"
      ],
      "metadata": {
        "id": "cjVAF9yXrYiM"
      }
    },
    {
      "cell_type": "markdown",
      "source": [
        "For numeric variables, I check correlations:\n",
        "\n",
        "- High correlation (e.g., >0.9): indicates redundancy, I may drop one later.\n",
        "\n",
        "- Low correlation with target: doesn’t mean the feature is useless, but it sets expectations.\n",
        "\n",
        "- Multicollinearity: if many variables are correlated, I note this for modeling (especially linear models)."
      ],
      "metadata": {
        "id": "VcRMr4rUrbkw"
      }
    },
    {
      "cell_type": "code",
      "source": [],
      "metadata": {
        "id": "prgH29ylrly1"
      },
      "execution_count": null,
      "outputs": []
    },
    {
      "cell_type": "markdown",
      "source": [
        "## Outliers & Anomalies"
      ],
      "metadata": {
        "id": "pny9pP4-rl7O"
      }
    },
    {
      "cell_type": "markdown",
      "source": [
        "I look for unusual cases that may distort models:\n",
        "\n",
        "- Extreme numeric values (e.g., income = 1e9).\n",
        "\n",
        "- Invalid categories (e.g., “???” or misspellings).\n",
        "\n",
        "- Dates far outside expected ranges.\n",
        "\n",
        "My decision:\n",
        "\n",
        "- Keep them (if real but rare events).\n",
        "\n",
        "- Transform them (e.g., log scale).\n",
        "\n",
        "- Remove them (if clear errors)."
      ],
      "metadata": {
        "id": "qr2wi5g4r_CU"
      }
    },
    {
      "cell_type": "code",
      "source": [],
      "metadata": {
        "id": "KQOUR0ZBsHqh"
      },
      "execution_count": null,
      "outputs": []
    },
    {
      "cell_type": "markdown",
      "source": [
        "## First Hypotheses"
      ],
      "metadata": {
        "id": "zSE6oewnsHwl"
      }
    },
    {
      "cell_type": "markdown",
      "source": [
        "Based on EDA, I start forming early hypotheses about which features matter most.\n",
        "\n",
        "- Which features seem strongly linked to the target?\n",
        "\n",
        "- Which categories show big differences in outcome rates?\n",
        "\n",
        "- Which features appear noisy or irrelevant?\n",
        "\n",
        "I write these down so I can later compare my intuition vs actual model results."
      ],
      "metadata": {
        "id": "W7ZE_zOnsJ6c"
      }
    },
    {
      "cell_type": "code",
      "source": [],
      "metadata": {
        "id": "FCxclDs9sO_G"
      },
      "execution_count": null,
      "outputs": []
    },
    {
      "cell_type": "markdown",
      "source": [
        "## My EDA Checklist"
      ],
      "metadata": {
        "id": "mqKh0msTsPFB"
      }
    },
    {
      "cell_type": "markdown",
      "source": [
        " - ✅ Reviewed distributions for all numeric features\n",
        "\n",
        " - ✅ Checked frequency tables for categorical features\n",
        "\n",
        " - ⬜️ Compared features against the target variable\n",
        "\n",
        " - ⬜️ Explored multivariate patterns and interactions\n",
        "\n",
        " - ⬜️ Logged correlations and possible redundancies\n",
        "\n",
        " - ⬜️ Investigated outliers and anomalies\n",
        "\n",
        " - ⬜️ Wrote down initial hypotheses"
      ],
      "metadata": {
        "id": "s_vvw4NSsRjj"
      }
    },
    {
      "cell_type": "code",
      "source": [],
      "metadata": {
        "id": "g_-g_ZwasbjF"
      },
      "execution_count": null,
      "outputs": []
    },
    {
      "cell_type": "markdown",
      "source": [
        "# Step 5: Data Cleaning & Preprocessing"
      ],
      "metadata": {
        "id": "nrS96TEFsc3T"
      }
    },
    {
      "cell_type": "markdown",
      "source": [
        "**Why I Am Doing This**\n",
        "\n",
        "After exploring the dataset, I now need to make it consistent, reliable, and usable for machine learning.\n",
        "Even the best model will fail if the input data is messy.\n",
        "\n",
        "The purpose of this step is to:\n",
        "\n",
        "- Handle missing values\n",
        "\n",
        "- Fix data type issues\n",
        "\n",
        "- Resolve duplicates\n",
        "\n",
        "- Correct or transform outliers\n",
        "\n",
        "- Standardize formats (dates, text, categories)\n",
        "\n",
        "- Ensure there is no data leakage\n",
        "\n",
        ">I think of this step as building a “clean kitchen” before cooking: I want my ingredients (data) organized and ready."
      ],
      "metadata": {
        "id": "pMzpCtxksrTK"
      }
    },
    {
      "cell_type": "markdown",
      "source": [
        "## Handling Missing Values"
      ],
      "metadata": {
        "id": "f5_FBPQvsyur"
      }
    },
    {
      "cell_type": "markdown",
      "source": [
        "I first check where data is missing and decide how to treat it:\n",
        "\n",
        "- Drop rows or columns (only if missingness is very high and uninformative).\n",
        "\n",
        "- Fill with statistical values:\n",
        "\n",
        "   - Numeric → mean, median, or group-based median\n",
        "\n",
        "   - Categorical → mode (most frequent value)\n",
        "\n",
        "- Use domain-specific rules (e.g., missing = “Unknown” or “Not applicable”).\n",
        "\n",
        "- Create missingness indicators (binary flags for whether data was missing).\n",
        "\n",
        ">I remind myself: imputing is never perfect — I choose a strategy that balances simplicity with accuracy."
      ],
      "metadata": {
        "id": "qGWhi9_qs1Q4"
      }
    },
    {
      "cell_type": "code",
      "source": [],
      "metadata": {
        "id": "aFvn1J6Ts9Y-"
      },
      "execution_count": null,
      "outputs": []
    },
    {
      "cell_type": "markdown",
      "source": [
        "## Data Type Corrections"
      ],
      "metadata": {
        "id": "tG7asol0s9nI"
      }
    },
    {
      "cell_type": "markdown",
      "source": [
        "make sure each column has the correct type:\n",
        "\n",
        "- IDs → integer or string, not float\n",
        "\n",
        "- Dates → converted to proper datetime objects\n",
        "\n",
        "- Categories → set as categorical variables\n",
        "\n",
        "- Numeric columns → checked for parsing errors (e.g., “1,000” stored as string)"
      ],
      "metadata": {
        "id": "n5p42NYQtHvY"
      }
    },
    {
      "cell_type": "code",
      "source": [],
      "metadata": {
        "id": "1fHfLhL3tNx_"
      },
      "execution_count": null,
      "outputs": []
    },
    {
      "cell_type": "markdown",
      "source": [
        "## Removing Duplicates"
      ],
      "metadata": {
        "id": "fJWwjYYUtN3h"
      }
    },
    {
      "cell_type": "markdown",
      "source": [
        "I check if:\n",
        "\n",
        "- Any rows are exact duplicates → remove them.\n",
        "\n",
        "- Keys (like ID) are duplicated → investigate why (data error or valid multi-records)."
      ],
      "metadata": {
        "id": "19BVG2c5tQGy"
      }
    },
    {
      "cell_type": "code",
      "source": [],
      "metadata": {
        "id": "aK0GcVzqtSgN"
      },
      "execution_count": null,
      "outputs": []
    },
    {
      "cell_type": "markdown",
      "source": [
        "## Handling Outliers"
      ],
      "metadata": {
        "id": "l403OyiDtSki"
      }
    },
    {
      "cell_type": "markdown",
      "source": [
        "Outliers can distort models, so I decide whether to:\n",
        "\n",
        "- Keep them (if they are valid but rare events).\n",
        "\n",
        "- Cap them (winsorization: set extreme values to a threshold).\n",
        "\n",
        "- Transform them (e.g., log-scaling skewed data).\n",
        "\n",
        "- Drop them (if they are clear errors)."
      ],
      "metadata": {
        "id": "ulTFaQMCtWdo"
      }
    },
    {
      "cell_type": "code",
      "source": [],
      "metadata": {
        "id": "9MVimQbmtZl_"
      },
      "execution_count": null,
      "outputs": []
    },
    {
      "cell_type": "markdown",
      "source": [
        "## Standardizing Date/Time Features"
      ],
      "metadata": {
        "id": "tyf1zhq4tZru"
      }
    },
    {
      "cell_type": "markdown",
      "source": [
        "For datetime columns, I:\n",
        "\n",
        "- Convert to proper datetime format.\n",
        "\n",
        "- Extract useful parts (year, month, day, weekday, hour).\n",
        "\n",
        "- Calculate differences (e.g., time since event, days until deadline).\n",
        "\n",
        "- Align time zones if necessary."
      ],
      "metadata": {
        "id": "F3K5Jqi0tfu3"
      }
    },
    {
      "cell_type": "code",
      "source": [],
      "metadata": {
        "id": "orvFsQrEtjQ2"
      },
      "execution_count": null,
      "outputs": []
    },
    {
      "cell_type": "markdown",
      "source": [
        "## Text & String Cleaning"
      ],
      "metadata": {
        "id": "GAIMYGMZtjWv"
      }
    },
    {
      "cell_type": "markdown",
      "source": [
        "For text columns, I consider:\n",
        "\n",
        "- Stripping whitespace, correcting casing.\n",
        "\n",
        "- Removing special characters or formatting artifacts.\n",
        "\n",
        "- Standardizing categories (e.g., “male” vs “Male” vs “M”).\n",
        "\n",
        "- Handling high-cardinality text separately (embedding, NLP later if relevant)."
      ],
      "metadata": {
        "id": "5g8XGgWHtmk0"
      }
    },
    {
      "cell_type": "code",
      "source": [],
      "metadata": {
        "id": "DyJNjvEuts08"
      },
      "execution_count": null,
      "outputs": []
    },
    {
      "cell_type": "markdown",
      "source": [
        "## Scaling & Normalization (Optional at This Stage)"
      ],
      "metadata": {
        "id": "kp8KDULkts5c"
      }
    },
    {
      "cell_type": "markdown",
      "source": [
        "For numeric features, I may prepare them for modeling:\n",
        "\n",
        "- Standardization (z-score): center at mean = 0, std = 1.\n",
        "\n",
        "- Normalization (min-max): scale to range [0,1].\n",
        "\n",
        "- Log transform: reduce skew for highly right-skewed features.\n",
        "\n",
        ">Some algorithms (e.g., Logistic Regression, SVM, Neural Nets) are sensitive to scale; others (e.g., Decision Trees, Random Forests) are not"
      ],
      "metadata": {
        "id": "yugsDqnCtu52"
      }
    },
    {
      "cell_type": "code",
      "source": [],
      "metadata": {
        "id": "kBkfOgmat5Yj"
      },
      "execution_count": null,
      "outputs": []
    },
    {
      "cell_type": "markdown",
      "source": [
        "## Preventing Data Leakage"
      ],
      "metadata": {
        "id": "1OlG4vYpt5dh"
      }
    },
    {
      "cell_type": "markdown",
      "source": [
        "I make sure that:\n",
        "\n",
        "- Test/validation sets never use information from training data.\n",
        "\n",
        "- Future information is not included in features for past predictions.\n",
        "\n",
        "- Derived features are calculated consistently across train/test splits."
      ],
      "metadata": {
        "id": "A3698Bemt7QL"
      }
    },
    {
      "cell_type": "code",
      "source": [],
      "metadata": {
        "id": "vA0nhKI8uCXS"
      },
      "execution_count": null,
      "outputs": []
    },
    {
      "cell_type": "markdown",
      "source": [
        "## My Data Cleaning Checklist"
      ],
      "metadata": {
        "id": "9aacfLuOuCoz"
      }
    },
    {
      "cell_type": "markdown",
      "source": [
        " - ✅ Identified and handled missing values\n",
        "\n",
        " - ⬜️ Verified column data types\n",
        "\n",
        " - ⬜️ Checked and removed duplicates\n",
        "\n",
        " - ⬜️ Investigated and treated outliers\n",
        "\n",
        " - ⬜️ Standardized date/time columns\n",
        "\n",
        " - ⬜️ Cleaned text and categorical values\n",
        "\n",
        " - ⬜️ Applied scaling/normalization if needed\n",
        "\n",
        " - ⬜️ Checked for potential data leakage"
      ],
      "metadata": {
        "id": "hmAzEApvuFHq"
      }
    },
    {
      "cell_type": "code",
      "source": [],
      "metadata": {
        "id": "hYmLjOT1uNDO"
      },
      "execution_count": null,
      "outputs": []
    },
    {
      "cell_type": "markdown",
      "source": [
        "# Step 6: Feature Engineering"
      ],
      "metadata": {
        "id": "MliO47rYuOa8"
      }
    },
    {
      "cell_type": "markdown",
      "source": [
        "**Why I Am Doing This**\n",
        "\n",
        "Once the dataset is clean, I want to enrich it by creating new features that capture important patterns.\n",
        "Sometimes, the raw data alone doesn’t tell the full story — but engineered features can reveal hidden relationships.\n",
        "\n",
        "Feature engineering often makes the difference between a baseline model and a high-performing model.\n",
        "\n",
        ">Models are only as good as the features they’re fed. Feature engineering is my chance to inject domain knowledge into the dataset."
      ],
      "metadata": {
        "id": "npH9a_Esusk2"
      }
    },
    {
      "cell_type": "markdown",
      "source": [
        "## Types of Feature Engineering"
      ],
      "metadata": {
        "id": "gj03zT2Buw1S"
      }
    },
    {
      "cell_type": "markdown",
      "source": [
        "I think of feature engineering in several categories:\n",
        "\n",
        "1. **Numeric Transformations**\n",
        "\n",
        "- Log-transform skewed variables (e.g., income, transaction amounts).\n",
        "\n",
        "- Binning continuous variables into categories (e.g., age groups).\n",
        "\n",
        "- Ratios and percentages (e.g., feature_a / feature_b).\n",
        "\n",
        "- Polynomial or interaction terms (e.g., feature_a * feature_b).\n",
        "\n",
        "2. **Categorical Encoding**\n",
        "\n",
        "- One-hot encoding: convert categories into dummy variables.\n",
        "\n",
        "- Label encoding: assign integers (useful for ordinal data).\n",
        "\n",
        "- Frequency encoding: replace categories with their frequency count.\n",
        "\n",
        "- Grouping rare categories: combine small classes into “Other.”\n",
        "\n",
        "3. **Datetime Features**\n",
        "\n",
        "From a single timestamp, I can extract:\n",
        "\n",
        "- Year, month, day, weekday, quarter.\n",
        "\n",
        "- Hour of the day (for time-of-day effects).\n",
        "\n",
        "- Time differences (e.g., days since signup, days until expiration).\n",
        "\n",
        "- Seasonality flags (holiday, weekend, summer vs winter).\n",
        "\n",
        "4. **Text Features**\n",
        "\n",
        "If I have free-text columns:\n",
        "\n",
        "- Length of the text (number of words, characters).\n",
        "\n",
        "- Presence of certain keywords.\n",
        "\n",
        "- Bag-of-words or embeddings (if NLP is relevant).\n",
        "\n",
        "5. **Domain-Specific Features**\n",
        "\n",
        "Depending on the dataset context, I may create:\n",
        "\n",
        "- Risk scores (e.g., credit risk ratio).\n",
        "\n",
        "- Aggregates (e.g., average purchases per customer).\n",
        "\n",
        "- Flags (e.g., “is_high_value_customer” = 1 if spend > threshold).\n",
        "\n",
        ">The best features often come from domain knowledge, not just automatic transformations."
      ],
      "metadata": {
        "id": "0X636E6MvQJw"
      }
    },
    {
      "cell_type": "code",
      "source": [],
      "metadata": {
        "id": "qnhAb9QBvpE4"
      },
      "execution_count": null,
      "outputs": []
    },
    {
      "cell_type": "markdown",
      "source": [
        "## Feature Selection vs Feature Creation"
      ],
      "metadata": {
        "id": "VPFqJXUbvhUp"
      }
    },
    {
      "cell_type": "markdown",
      "source": [
        "Feature engineering is not only about adding new features — it’s also about deciding which features to keep.\n",
        "\n",
        "- Drop irrelevant or redundant features (e.g., unique IDs, duplicates).\n",
        "\n",
        "- Remove highly correlated features to reduce multicollinearity.\n",
        "\n",
        "- Keep features that improve interpretability or model stability."
      ],
      "metadata": {
        "id": "9P_qrrZIwDx4"
      }
    },
    {
      "cell_type": "code",
      "source": [],
      "metadata": {
        "id": "kWlFOf3XwHR1"
      },
      "execution_count": null,
      "outputs": []
    },
    {
      "cell_type": "markdown",
      "source": [
        "## Interaction Features"
      ],
      "metadata": {
        "id": "E8rHUyK8wHdH"
      }
    },
    {
      "cell_type": "markdown",
      "source": [
        "Sometimes, two variables combined give more insight than separately.\n",
        "\n",
        "- *Example*: `price` * `quantity` = total_spent.\n",
        "\n",
        "- *Example*: `age_group` + `product_type` → segment performance.\n",
        "\n",
        "I always document these combinations so I remember why I created them."
      ],
      "metadata": {
        "id": "FttrIqA5wRN-"
      }
    },
    {
      "cell_type": "code",
      "source": [],
      "metadata": {
        "id": "S1LjqSC7w6Pk"
      },
      "execution_count": null,
      "outputs": []
    },
    {
      "cell_type": "markdown",
      "source": [
        "## Handling High Cardinality"
      ],
      "metadata": {
        "id": "xfHQqdOdw6Vz"
      }
    },
    {
      "cell_type": "markdown",
      "source": [
        "If a categorical column has hundreds of categories (e.g., cities, product IDs), I plan carefully:\n",
        "\n",
        "- Group rare values into “Other.”\n",
        "\n",
        "- Use frequency encoding.\n",
        "\n",
        "- Consider embeddings for extremely large cardinality."
      ],
      "metadata": {
        "id": "8kovcA7ww9HX"
      }
    },
    {
      "cell_type": "code",
      "source": [],
      "metadata": {
        "id": "vODMpRYCxvbD"
      },
      "execution_count": null,
      "outputs": []
    },
    {
      "cell_type": "markdown",
      "source": [
        "## Derived Features Log (Template)"
      ],
      "metadata": {
        "id": "SmKHlK7dxvjX"
      }
    },
    {
      "cell_type": "markdown",
      "source": [
        "| New Feature  | Formula / Transformation             | Rationale                                          |\n",
        "| ------------ | ------------------------------------ | -------------------------------------------------- |\n",
        "| income\\_log  | log(income + 1)                      | Reduce skew and highlight relative differences     |\n",
        "| age\\_group   | bin(age) → {0–18, 19–35, 36–60, 61+} | Easier interpretation, capture non-linear patterns |\n",
        "| days\\_active | today – signup\\_date                 | Measure customer lifetime                          |\n",
        "| ratio\\_ab    | feature\\_a / feature\\_b              | Highlight proportional relationship                |\n"
      ],
      "metadata": {
        "id": "B7Not2ssxx-W"
      }
    },
    {
      "cell_type": "code",
      "source": [],
      "metadata": {
        "id": "MIDtvZC_x2JX"
      },
      "execution_count": null,
      "outputs": []
    },
    {
      "cell_type": "markdown",
      "source": [
        "## My Feature Engineering Checklist"
      ],
      "metadata": {
        "id": "VSCIMS87x2go"
      }
    },
    {
      "cell_type": "markdown",
      "source": [
        " - ✅ Created transformations for skewed numeric variables\n",
        "\n",
        " - ⬜️ Extracted useful datetime components\n",
        "\n",
        " - ⬜️ Encoded categorical features (one-hot, label, or frequency)\n",
        "\n",
        " - ⬜️ Grouped or flagged rare categories\n",
        "\n",
        " - ⬜️ Designed domain-specific variables\n",
        "\n",
        " - ⬜️ Logged all new features in a feature dictionary"
      ],
      "metadata": {
        "id": "12gx62rIx4kd"
      }
    },
    {
      "cell_type": "code",
      "source": [],
      "metadata": {
        "id": "wavPzAleyAS9"
      },
      "execution_count": null,
      "outputs": []
    },
    {
      "cell_type": "markdown",
      "source": [
        "# Step 7: Feature Transformation & Data Splitting"
      ],
      "metadata": {
        "id": "mssgdAn7yAby"
      }
    },
    {
      "cell_type": "markdown",
      "source": [
        "**Why I Am Doing This**\n",
        "\n",
        "Even after cleaning and engineering features, the dataset may still not be ready for modeling.\n",
        "Models often expect features in specific formats, and I also need to ensure that I evaluate my model fairly with proper train/test/validation splits.\n",
        "\n",
        "- The purpose of this step is to:\n",
        "\n",
        "- Transform categorical and numeric features into usable formats.\n",
        "\n",
        "- Scale variables where needed.\n",
        "\n",
        "- Encode labels for supervised learning tasks.\n",
        "\n",
        "- Split the dataset into training, validation, and test sets without leakage.\n",
        "\n",
        ">At this stage, I am building the bridge between raw/engineered data and the algorithms that will learn from it."
      ],
      "metadata": {
        "id": "u2ZPe7Y3yGbU"
      }
    },
    {
      "cell_type": "markdown",
      "source": [
        "## Encoding Categorical Variables"
      ],
      "metadata": {
        "id": "f2kHz7HRySVK"
      }
    },
    {
      "cell_type": "markdown",
      "source": [
        "Different algorithms require categorical features in numeric form.\n",
        "\n",
        "- One-Hot Encoding (OHE):\n",
        "\n",
        "   - Each category becomes its own column (0/1 flag).\n",
        "\n",
        "   - Best for tree-based models (Decision Trees, Random Forests, XGBoost).\n",
        "\n",
        "   - Problem: high-dimensionality if too many categories.\n",
        "\n",
        "- Label Encoding:\n",
        "\n",
        "   - Assigns an integer value to each category.\n",
        "\n",
        "   - Works well with ordinal features (e.g., “low, medium, high”).\n",
        "\n",
        "   - Risk: for non-ordinal features, models may assume false order.\n",
        "\n",
        "- Frequency/Count Encoding:\n",
        "\n",
        "   - Replace categories with their frequency or counts.\n",
        "\n",
        "   - Useful for high-cardinality variables.\n",
        "\n",
        "- Target/Mean Encoding:\n",
        "\n",
        "   - Replace categories with average target rate.\n",
        "\n",
        "   - Can be powerful, but risky (must avoid leakage)."
      ],
      "metadata": {
        "id": "B3QDZJEkyUnb"
      }
    },
    {
      "cell_type": "code",
      "source": [],
      "metadata": {
        "id": "z8wtoSM2y8pA"
      },
      "execution_count": null,
      "outputs": []
    },
    {
      "cell_type": "markdown",
      "source": [
        "## Scaling Numeric Features"
      ],
      "metadata": {
        "id": "_GEi6Ny8y8-X"
      }
    },
    {
      "cell_type": "markdown",
      "source": [
        "Some algorithms are sensitive to feature scales (e.g., Logistic Regression, SVM, Neural Networks).\n",
        "Others (tree-based models) are scale-invariant.\n",
        "\n",
        "- Standardization (Z-score): `(x – mean) / std` → mean = 0, std = 1.\n",
        "\n",
        "- Normalization (Min-Max): scales values into `[0,1]`.\n",
        "\n",
        "- Log Transform: reduces skew in highly right-skewed features."
      ],
      "metadata": {
        "id": "ffyquWUEzF7F"
      }
    },
    {
      "cell_type": "code",
      "source": [],
      "metadata": {
        "id": "cv5jTiFG1CFP"
      },
      "execution_count": null,
      "outputs": []
    },
    {
      "cell_type": "markdown",
      "source": [
        "## Encoding the Target Variable"
      ],
      "metadata": {
        "id": "00lkcTqY1CRL"
      }
    },
    {
      "cell_type": "markdown",
      "source": [
        "- For binary classification: encode target as {0,1}.\n",
        "\n",
        "- For multi-class classification: integer labels or one-hot vectors.\n",
        "\n",
        "- For regression: keep as continuous numeric values."
      ],
      "metadata": {
        "id": "_EMlYA001N_x"
      }
    },
    {
      "cell_type": "code",
      "source": [],
      "metadata": {
        "id": "rkysOdpA1Si9"
      },
      "execution_count": null,
      "outputs": []
    },
    {
      "cell_type": "markdown",
      "source": [
        "## Train / Validation / Test Splitting"
      ],
      "metadata": {
        "id": "l4chuvI81Snq"
      }
    },
    {
      "cell_type": "markdown",
      "source": [
        "To properly evaluate performance, I split my dataset into subsets:\n",
        "\n",
        "- Training set: the portion used to train the model (usually 60–70%).\n",
        "\n",
        "- Validation set: used to tune hyperparameters and compare models (15–20%).\n",
        "\n",
        "- Test set: final unseen data to evaluate real-world performance (15–20%).\n",
        "\n",
        "### Important considerations\n",
        "\n",
        "- Use stratified sampling for classification if classes are imbalanced.\n",
        "\n",
        "- For time-series problems, split chronologically (train on past, test on future).\n",
        "\n",
        "- Ensure no data leakage (the same person/item/event shouldn’t appear in both train and test)."
      ],
      "metadata": {
        "id": "SgEKxSCZ1UvB"
      }
    },
    {
      "cell_type": "code",
      "source": [],
      "metadata": {
        "id": "QsMVowR61gK0"
      },
      "execution_count": null,
      "outputs": []
    },
    {
      "cell_type": "markdown",
      "source": [
        "## Cross-Validation (Optional but Recommended)"
      ],
      "metadata": {
        "id": "HUvzFCiS1gQA"
      }
    },
    {
      "cell_type": "markdown",
      "source": [
        "Instead of one validation split, I may use k-fold cross-validation:\n",
        "\n",
        "- The training data is split into k folds (e.g., 5).\n",
        "\n",
        "- The model trains k times, each time using one fold as validation and the rest as training.\n",
        "\n",
        "- The average score across folds gives a more reliable estimate.\n",
        "\n",
        ">This is especially useful for small datasets where I want to maximize training data."
      ],
      "metadata": {
        "id": "AUtOOJ8D1ntS"
      }
    },
    {
      "cell_type": "code",
      "source": [],
      "metadata": {
        "id": "Vx1ijaZ21roZ"
      },
      "execution_count": null,
      "outputs": []
    },
    {
      "cell_type": "markdown",
      "source": [
        "## My Transformation & Splitting Checklist"
      ],
      "metadata": {
        "id": "7GEZCSAC1rxA"
      }
    },
    {
      "cell_type": "markdown",
      "source": [
        " - ✅ Encoded categorical variables properly\n",
        "\n",
        " - ✅ Scaled/normalized numeric features if required\n",
        "\n",
        " - ⬜️ Encoded the target variable consistently\n",
        "\n",
        " - ⬜️ Split dataset into train/validation/test\n",
        "\n",
        " - ⬜️ Used stratification or time-based splits if needed\n",
        "\n",
        " - ⬜️ Considered cross-validation for stability\n",
        "\n",
        " - ⬜️ Verified no data leakage between splits"
      ],
      "metadata": {
        "id": "MPUmeuXc1tld"
      }
    },
    {
      "cell_type": "code",
      "source": [],
      "metadata": {
        "id": "Xzg1_nqr11R0"
      },
      "execution_count": null,
      "outputs": []
    },
    {
      "cell_type": "markdown",
      "source": [
        "# Step 8: Model Selection & Baseline Modeling"
      ],
      "metadata": {
        "id": "45HW9U4L11dj"
      }
    },
    {
      "cell_type": "markdown",
      "source": [
        "**Why I Am Doing This**\n",
        "\n",
        "Now that my dataset is clean, engineered, and split, I need to select candidate models to try.\n",
        "The purpose of this step is twofold:\n",
        "\n",
        "1. Establish a baseline model to measure progress against.\n",
        "\n",
        "2. Compare different algorithms that might suit my dataset.\n",
        "\n",
        ">A baseline doesn’t need to be perfect — it’s simply a starting point. If a complex model can’t beat the baseline, it’s probably not worth the extra effort."
      ],
      "metadata": {
        "id": "78Srk6nx2Cuy"
      }
    },
    {
      "cell_type": "markdown",
      "source": [
        "## What Is a Baseline Model?"
      ],
      "metadata": {
        "id": "G5kw-7oQ2L0x"
      }
    },
    {
      "cell_type": "markdown",
      "source": [
        "A baseline model is a simple first attempt that sets expectations.\n",
        "Examples include:\n",
        "\n",
        "- For classification problems:\n",
        "\n",
        "   - Predict the most frequent class for all rows.\n",
        "\n",
        "   - Logistic Regression with no hyperparameter tuning.\n",
        "\n",
        "- For regression problems:\n",
        "\n",
        "   - Always predict the mean or median.\n",
        "\n",
        "   - Linear Regression with no feature scaling tweaks."
      ],
      "metadata": {
        "id": "YKmQ2sHy2TFF"
      }
    },
    {
      "cell_type": "code",
      "source": [],
      "metadata": {
        "id": "honS9F9Z2XAt"
      },
      "execution_count": null,
      "outputs": []
    },
    {
      "cell_type": "markdown",
      "source": [
        "## Model Families to Consider"
      ],
      "metadata": {
        "id": "h-fnND3S26ok"
      }
    },
    {
      "cell_type": "markdown",
      "source": [
        "Linear / Generalized Linear Models (GLMs)\n",
        "\n",
        "What they are: Linear relationships between features and target; GLMs extend to different target types.\n",
        "\n",
        "Representative models\n",
        "\n",
        "Classification: Logistic Regression (binary & one-vs-rest multi-class), Ordinal Logistic (ordered classes)\n",
        "\n",
        "Regression: Ordinary Least Squares, Ridge, Lasso, Elastic Net, Quantile Regression\n",
        "\n",
        "Counts: Poisson, Negative Binomial\n",
        "\n",
        "Smooth non-linear (still interpretable): GAMs (Generalized Additive Models)\n",
        "\n",
        "Pros\n",
        "\n",
        "Simple, fast, interpretable; strong baselines\n",
        "\n",
        "Work well on small/medium tabular data\n",
        "\n",
        "Regularization (Ridge/Lasso) combats overfitting\n",
        "\n",
        "Cons\n",
        "\n",
        "Struggle with complex non-linear interactions\n",
        "\n",
        "Sensitive to multicollinearity & scaling\n",
        "\n",
        "Feature engineering often required\n",
        "\n",
        "I use them for\n",
        "\n",
        "✅ Binary/multi-class baselines, numeric regression, count targets\n",
        "\n",
        "✅ When interpretability is a must\n",
        "\n",
        "🌳 Tree-Based Models\n",
        "\n",
        "What they are: Decision trees and their ensembles; great at non-linearities & interactions.\n",
        "\n",
        "Representative models\n",
        "\n",
        "Single tree: Decision Tree (Classifier/Regressor)\n",
        "\n",
        "Bagging: Random Forest, Extra Trees (Extremely Randomized Trees)\n",
        "\n",
        "Boosting: XGBoost, LightGBM, CatBoost, sklearn HistGradientBoosting, AdaBoost\n",
        "\n",
        "Pros\n",
        "\n",
        "Handle non-linear patterns & interactions automatically\n",
        "\n",
        "Often state-of-the-art on tabular data\n",
        "\n",
        "Robust to outliers; can handle missing values (esp. boosting)\n",
        "\n",
        "CatBoost handles categoricals natively; LightGBM is very fast\n",
        "\n",
        "Cons\n",
        "\n",
        "Single trees overfit; ensembles less interpretable\n",
        "\n",
        "Can be heavy on memory/compute for very large data\n",
        "\n",
        "Need tuning for best results\n",
        "\n",
        "I use them for\n",
        "\n",
        "✅ Binary & multi-class classification, regression\n",
        "\n",
        "✅ Imbalanced classification (class weights, scale_pos_weight)\n",
        "\n",
        "✅ Medium→large tabular datasets\n",
        "\n",
        "📏 Distance-Based Models\n",
        "\n",
        "What they are: Compare examples by distance/similarity.\n",
        "\n",
        "Representative models\n",
        "\n",
        "K-Nearest Neighbors (KNN) (Classifier/Regressor)\n",
        "\n",
        "Pros\n",
        "\n",
        "Extremely simple and intuitive\n",
        "\n",
        "No training phase; good quick baseline on small datasets\n",
        "\n",
        "Cons\n",
        "\n",
        "Slow at prediction on large datasets; memory heavy\n",
        "\n",
        "Sensitive to feature scaling and noisy features\n",
        "\n",
        "I use them for\n",
        "\n",
        "⚠️ Small, clean datasets only (classification/regression)\n",
        "\n",
        "➖ Margin-Based Models\n",
        "\n",
        "What they are: Maximize the margin between classes or fit with robust loss.\n",
        "\n",
        "Representative models\n",
        "\n",
        "SVM / LinearSVC / SVC (RBF) for classification\n",
        "\n",
        "SVR for regression\n",
        "\n",
        "Pros\n",
        "\n",
        "Strong with clear boundaries & high-dimensional sparse data (e.g., text)\n",
        "\n",
        "Kernel trick captures non-linear patterns\n",
        "\n",
        "Cons\n",
        "\n",
        "Training scales poorly with data size\n",
        "\n",
        "Requires scaling; careful hyperparameter tuning (C, gamma)\n",
        "\n",
        "I use them for\n",
        "\n",
        "✅ Small/medium datasets; text features; clean separations\n",
        "\n",
        "🔡 Probabilistic Models\n",
        "\n",
        "What they are: Models with explicit probability assumptions.\n",
        "\n",
        "Representative models\n",
        "\n",
        "Naive Bayes (Gaussian, Multinomial, Bernoulli, Complement)\n",
        "\n",
        "Bayesian Linear/Logistic Regression (conceptual)\n",
        "\n",
        "Pros\n",
        "\n",
        "Very fast, very simple\n",
        "\n",
        "Excellent for text classification with BoW/TF-IDF\n",
        "\n",
        "Cons\n",
        "\n",
        "Strong independence assumption often violated\n",
        "\n",
        "Lower ceiling on complex tabular problems\n",
        "\n",
        "I use them for\n",
        "\n",
        "✅ Text spam/sentiment/topic baselines\n",
        "\n",
        "✅ Quick multi-class prototypes\n",
        "\n",
        "🧠 Neural Networks (Deep Learning)\n",
        "\n",
        "What they are: Flexible function approximators trained with gradient descent. Implemented with PyTorch (torch) or TensorFlow/Keras.\n",
        "\n",
        "Representative models\n",
        "\n",
        "Tabular: MLP (Feedforward), TabNet, TabTransformer\n",
        "\n",
        "Vision: CNNs (ResNet, EfficientNet), ViT (Vision Transformer)\n",
        "\n",
        "Text/NLP: RNN/LSTM/GRU, Transformers (BERT/roBERTa/T5)\n",
        "\n",
        "Time Series: RNN/LSTM/GRU, TCN, Temporal Fusion Transformer (TFT)\n",
        "\n",
        "Recsys: Wide & Deep, DeepFM, embeddings-based models\n",
        "\n",
        "Pros\n",
        "\n",
        "Extremely flexible; state-of-the-art in CV/NLP/Audio\n",
        "\n",
        "Learn complex non-linearities and interactions automatically\n",
        "\n",
        "Cons\n",
        "\n",
        "Need more data, compute, and tuning\n",
        "\n",
        "Less interpretable; longer feedback loops\n",
        "\n",
        "On classic tabular data, boosted trees often win\n",
        "\n",
        "I use them for\n",
        "\n",
        "✅ Images, text, audio, sequences\n",
        "\n",
        "✅ Very large tabular datasets where NN variants (TabNet/TabTransformer) help\n",
        "\n",
        "Framework note:\n",
        "\n",
        "PyTorch (torch): Pythonic, flexible, loved in research/production\n",
        "\n",
        "TensorFlow/Keras: high-level, great tooling; both are fine choices\n",
        "\n",
        "🎭 Ensemble / Meta-Learning\n",
        "\n",
        "What they are: Combine models to improve performance.\n",
        "\n",
        "Representative methods\n",
        "\n",
        "Bagging (e.g., Random Forest), Boosting (XGBoost/LightGBM/CatBoost)\n",
        "\n",
        "Stacking/Blending, Voting (hard/soft)\n",
        "\n",
        "Pros\n",
        "\n",
        "Boost accuracy & stability; reduce variance\n",
        "\n",
        "Often deliver top Kaggle results\n",
        "\n",
        "Cons\n",
        "\n",
        "More complex pipelines; harder to interpret & deploy\n",
        "\n",
        "Risk of leakage if not split properly\n",
        "\n",
        "I use them for\n",
        "\n",
        "✅ Final performance lifts after strong single models"
      ],
      "metadata": {
        "id": "Ba7XrXil2mM9"
      }
    },
    {
      "cell_type": "code",
      "source": [],
      "metadata": {
        "id": "9n-Uwa7d24Bv"
      },
      "execution_count": null,
      "outputs": []
    },
    {
      "cell_type": "markdown",
      "source": [
        "## Use-Case Guide (What I Try First)"
      ],
      "metadata": {
        "id": "8mvs52le_Ejg"
      }
    },
    {
      "cell_type": "markdown",
      "source": [
        "Binary Classification (0/1)\n",
        "\n",
        "Start with: Logistic Regression → Random Forest → LightGBM/XGBoost\n",
        "Also consider: SVM (small data), CatBoost (heavy categoricals), Naive Bayes (text)\n",
        "Imbalance tips: class weights, focal loss (DL), scale_pos_weight (XGB/LGBM), BalancedRandomForest, EasyEnsemble\n",
        "\n",
        "🔵 Multi-Class Classification (3+ classes)\n",
        "\n",
        "Start with: Random Forest / LightGBM / XGBoost\n",
        "Also consider: Logistic (OvR/softmax), CatBoost (categoricals), SVM (small/medium), Naive Bayes (text)\n",
        "\n",
        "🔶 Regression (continuous target)\n",
        "\n",
        "Start with: Linear/Ridge/Lasso → Random Forest Regressor → LightGBM/XGBoost\n",
        "Also consider: SVR (small), GAMs (interpretable non-linear), Quantile Regression (predict intervals)\n",
        "Counts: Poisson / NegBin; Zeros: Zero-inflated models (conceptually) or tree ensembles\n",
        "\n",
        "⏱️ Time-Series Forecasting\n",
        "\n",
        "Classical: ARIMA/SARIMA/SARIMAX, ETS/Exponential Smoothing, Prophet\n",
        "ML on lags: LightGBM/XGBoost/Random Forest with lag/rolling/window features\n",
        "DL: LSTM/GRU, TCN, TFT (when sequences are long/multivariate)\n",
        "Tips: walk-forward validation; no leakage; calendar/holiday features\n",
        "\n",
        "📝 Text / NLP\n",
        "\n",
        "Classic pipeline: TF-IDF → Logistic/SVM/Naive Bayes\n",
        "Modern: Transformers (BERT/roBERTa/T5) via PyTorch/TensorFlow\n",
        "When: large corpora or need SOTA accuracy/semantics\n",
        "\n",
        "🖼️ Computer Vision\n",
        "\n",
        "Classic: HOG/SIFT + Linear/SVM (rare now)\n",
        "Modern: CNNs (ResNet/EfficientNet), Vision Transformers (ViT) with PyTorch/TensorFlow\n",
        "When: images/video; consider transfer learning\n",
        "\n",
        "🎯 Recommendation Systems\n",
        "\n",
        "Collaborative filtering: Matrix factorization (ALS), nearest neighbors\n",
        "Hybrid/Deep: Wide & Deep, DeepFM, two-tower models with embeddings\n",
        "Ranking: XGBoost/LightGBM with ranking objectives (LambdaRank) for top-N\n",
        "\n",
        "🕵️ Anomaly / Outlier Detection\n",
        "\n",
        "Unsupervised: Isolation Forest, One-Class SVM, Local Outlier Factor (LOF)\n",
        "Time-series anomalies: Forecast residuals, STL decomposition, deep sequence models\n",
        "\n",
        "🧩 Unsupervised Learning (Exploration)\n",
        "\n",
        "Clustering: K-Means, Agglomerative/Hierarchical, DBSCAN/HDBSCAN (non-spherical clusters)\n",
        "Dimensionality reduction: PCA (linear), UMAP / t-SNE (non-linear, visualization)\n",
        "\n",
        "| Dataset Type / Size                                            | Recommended Models                                                                                                        | Notes                                                                                                  |\n",
        "| -------------------------------------------------------------- | ------------------------------------------------------------------------------------------------------------------------- | ------------------------------------------------------------------------------------------------------ |\n",
        "| **Tiny / Small Tabular (≤10k rows)**                           | Logistic Regression / Linear Regression, SVM, KNN, Single Decision Tree                                                   | Best for baselines, easy interpretability, small clean datasets                                        |\n",
        "| **Medium Tabular (10k – 1M rows)**                             | Random Forest, LightGBM, XGBoost                                                                                          | Strong performance, balanced speed vs accuracy, default go-to for most structured data                 |\n",
        "| **Huge Tabular (≫1M rows)**                                    | LightGBM, CatBoost (optimized for speed), Distributed Training (XGBoost Dask, Spark ML), Deep Learning (for unstructured) | LightGBM & CatBoost handle massive data efficiently; consider distributed or DL if data is complex     |\n",
        "| **High-Dimensional Sparse (e.g., Text, Bag-of-Words, TF-IDF)** | Logistic Regression, Linear SVC, Naive Bayes; Transformers (BERT, etc.) for advanced NLP                                  | Linear models scale well with sparse data; Naive Bayes is a fast baseline; Transformers for modern NLP |\n"
      ],
      "metadata": {
        "id": "k3J8k299_GB4"
      }
    },
    {
      "cell_type": "code",
      "source": [],
      "metadata": {
        "id": "3uBeevw4_Enn"
      },
      "execution_count": null,
      "outputs": []
    },
    {
      "cell_type": "markdown",
      "source": [
        "## How I Will Compare Models"
      ],
      "metadata": {
        "id": "7Gafju3828uW"
      }
    },
    {
      "cell_type": "markdown",
      "source": [
        "I plan to:\n",
        "\n",
        "1. Train multiple algorithms using default parameters.\n",
        "\n",
        "2. Evaluate each on the validation set using the metric I chose in Step 1.\n",
        "\n",
        "3. Record results in a comparison table.\n",
        "\n",
        "4. Select the most promising model(s) for tuning in the next step.\n",
        "\n",
        "| Model               | Validation Accuracy | Notes                                  |\n",
        "| ------------------- | ------------------- | -------------------------------------- |\n",
        "| Majority Class      | 0.60                | Baseline (predict most frequent class) |\n",
        "| Logistic Regression | 0.72                | Simple linear model                    |\n",
        "| Decision Tree       | 0.75                | Slight overfitting risk                |\n",
        "| Random Forest       | 0.80                | Promising, stable                      |\n",
        "| XGBoost             | 0.82                | Strong candidate                       |\n"
      ],
      "metadata": {
        "id": "ICgquLzS3D77"
      }
    },
    {
      "cell_type": "code",
      "source": [],
      "metadata": {
        "id": "7AlBOJz_3LMp"
      },
      "execution_count": null,
      "outputs": []
    },
    {
      "cell_type": "markdown",
      "source": [
        "## Preventing Overfitting Early"
      ],
      "metadata": {
        "id": "7VdoxIVf3LYf"
      }
    },
    {
      "cell_type": "markdown",
      "source": [
        "Even in baseline tests, I keep in mind:\n",
        "\n",
        "- High training score but low validation score = overfitting.\n",
        "\n",
        "- Similar training/validation scores = healthy baseline.\n",
        "\n",
        "I don’t tune too much yet — the goal is broad comparison, not perfection."
      ],
      "metadata": {
        "id": "-OEuaM_k3Nv9"
      }
    },
    {
      "cell_type": "code",
      "source": [],
      "metadata": {
        "id": "0fA3wjJ33WUr"
      },
      "execution_count": null,
      "outputs": []
    },
    {
      "cell_type": "markdown",
      "source": [
        "## My Model Selection Checklist"
      ],
      "metadata": {
        "id": "nx_kAcef3Xyq"
      }
    },
    {
      "cell_type": "markdown",
      "source": [
        "- ✅ Built a simple baseline model\n",
        "\n",
        "- ✅ Selected a diverse set of algorithms to compare\n",
        "\n",
        "- ⬜️ Evaluated each model with the chosen metric\n",
        "\n",
        "- ⬜️ Recorded results in a comparison table\n",
        "\n",
        "- ⬜️ Identified at least one strong candidate for tuning\n",
        "\n",
        "- ⬜️ Checked for early signs of overfitting"
      ],
      "metadata": {
        "id": "Bak7NTE03aNX"
      }
    },
    {
      "cell_type": "code",
      "source": [],
      "metadata": {
        "id": "qclJlhCR3mW4"
      },
      "execution_count": null,
      "outputs": []
    },
    {
      "cell_type": "markdown",
      "source": [
        "# Step 9: Model Training & Evaluation"
      ],
      "metadata": {
        "id": "7LzzeRrj3mhH"
      }
    },
    {
      "cell_type": "markdown",
      "source": [
        "**Why I Am Doing This**\n",
        "\n",
        "After building baselines and shortlisting candidate models, I now want to:\n",
        "\n",
        "- Train them more carefully (not just defaults).\n",
        "\n",
        "- Evaluate their performance on the validation set.\n",
        "\n",
        "- Compare results across multiple metrics, not just one.\n",
        "\n",
        "- Understand where each model performs well or poorly.\n",
        "\n",
        ">This step helps me figure out which models are truly promising before moving to tuning."
      ],
      "metadata": {
        "id": "WVcP_4rp4Hib"
      }
    },
    {
      "cell_type": "markdown",
      "source": [
        "## Training Strategy"
      ],
      "metadata": {
        "id": "DBPlEHWH4P7Y"
      }
    },
    {
      "cell_type": "markdown",
      "source": [
        "When training my models, I keep in mind:\n",
        "\n",
        "- Consistency: use the same train/validation split (or cross-validation) for fair comparison.\n",
        "\n",
        "- Reproducibility: set random seeds so results are stable.\n",
        "\n",
        "- Efficiency: start small, then increase complexity if needed.\n",
        "\n",
        "I remind myself: more complex ≠ always better. Sometimes simple models outperform heavy ones."
      ],
      "metadata": {
        "id": "3ZXWH6VA4Yke"
      }
    },
    {
      "cell_type": "code",
      "source": [],
      "metadata": {
        "id": "bqKSfNvW4aZD"
      },
      "execution_count": null,
      "outputs": []
    },
    {
      "cell_type": "markdown",
      "source": [
        "## Evaluation Metrics"
      ],
      "metadata": {
        "id": "LS4WtWjU4a4s"
      }
    },
    {
      "cell_type": "markdown",
      "source": [
        "I already defined my primary metric in Step 1 (e.g., Accuracy, RMSE).\n",
        "Now I also look at secondary metrics to get a fuller picture.\n",
        "\n",
        "**For classification problems:**\n",
        "\n",
        "- Accuracy (overall correctness)\n",
        "\n",
        "- Precision (how many predicted positives are actually positive)\n",
        "\n",
        "- Recall (how many actual positives I found)\n",
        "\n",
        "- F1-score (balance of precision & recall)\n",
        "\n",
        "- ROC-AUC (ranking ability, threshold-independent)\n",
        "\n",
        "**For regression problems:**\n",
        "\n",
        "- RMSE (root mean squared error)\n",
        "\n",
        "- MAE (mean absolute error)\n",
        "\n",
        "- R² (variance explained)"
      ],
      "metadata": {
        "id": "pCQmLeOc4dKv"
      }
    },
    {
      "cell_type": "code",
      "source": [],
      "metadata": {
        "id": "CuVMBJYj4k2f"
      },
      "execution_count": null,
      "outputs": []
    },
    {
      "cell_type": "markdown",
      "source": [
        "## Model Comparison Table"
      ],
      "metadata": {
        "id": "cDVJLYr24k6R"
      }
    },
    {
      "cell_type": "markdown",
      "source": [
        "I record each model’s performance side by side.\n",
        "\n",
        "| Model               | Accuracy | Precision | Recall | F1-score | ROC-AUC | Notes                 |\n",
        "| ------------------- | -------- | --------- | ------ | -------- | ------- | --------------------- |\n",
        "| Logistic Regression | 0.72     | 0.70      | 0.65   | 0.67     | 0.74    | Simple, interpretable |\n",
        "| Decision Tree       | 0.75     | 0.73      | 0.70   | 0.71     | 0.76    | Tends to overfit      |\n",
        "| Random Forest       | 0.80     | 0.78      | 0.76   | 0.77     | 0.84    | Robust, balanced      |\n",
        "| XGBoost             | 0.82     | 0.80      | 0.78   | 0.79     | 0.86    | Best so far           |\n"
      ],
      "metadata": {
        "id": "jR8Vhhic4oGB"
      }
    },
    {
      "cell_type": "code",
      "source": [],
      "metadata": {
        "id": "I64cw2Oj4tBs"
      },
      "execution_count": null,
      "outputs": []
    },
    {
      "cell_type": "markdown",
      "source": [
        "## Bias vs Variance Check"
      ],
      "metadata": {
        "id": "klbkRT8C4tGB"
      }
    },
    {
      "cell_type": "markdown",
      "source": [
        "I compare training vs validation scores:\n",
        "\n",
        "- If training >> validation → overfitting.\n",
        "\n",
        "- If training ≈ validation but both low → underfitting.\n",
        "\n",
        "- If both are high → model generalizes well.\n",
        "\n",
        "This helps me know whether to simplify the model or add complexity."
      ],
      "metadata": {
        "id": "FBo5Huos4uQ9"
      }
    },
    {
      "cell_type": "code",
      "source": [],
      "metadata": {
        "id": "-TPBqjPK40Hm"
      },
      "execution_count": null,
      "outputs": []
    },
    {
      "cell_type": "markdown",
      "source": [
        "## Error Analysis"
      ],
      "metadata": {
        "id": "t-Ce-TDT40LD"
      }
    },
    {
      "cell_type": "markdown",
      "source": [
        "Instead of just looking at overall accuracy, I also ask:\n",
        "\n",
        "- Which cases are most often misclassified?\n",
        "\n",
        "- Do certain categories get worse predictions than others?\n",
        "\n",
        "- Are errors random or systematic (bias)?\n",
        "\n",
        "Error analysis gives me insight into what to fix (feature engineering, resampling, better model)."
      ],
      "metadata": {
        "id": "y_QMz51D43nO"
      }
    },
    {
      "cell_type": "code",
      "source": [],
      "metadata": {
        "id": "LRhWE9-545hM"
      },
      "execution_count": null,
      "outputs": []
    },
    {
      "cell_type": "markdown",
      "source": [
        "## My Training & Evaluation Checklist"
      ],
      "metadata": {
        "id": "d00iL_cF45lx"
      }
    },
    {
      "cell_type": "markdown",
      "source": [
        " - ✅ Used consistent splits for all models\n",
        "\n",
        " - ⬜️ Trained multiple models with same preprocessing pipeline\n",
        "\n",
        " - ⬜️ Evaluated with both primary and secondary metrics\n",
        "\n",
        " - ⬜️ Compared training vs validation performance (bias/variance)\n",
        "\n",
        " - ⬜️ Logged results in a model comparison table\n",
        "\n",
        " - ⬜️ Performed basic error analysis"
      ],
      "metadata": {
        "id": "3XFDFCAK48IY"
      }
    },
    {
      "cell_type": "code",
      "source": [],
      "metadata": {
        "id": "12MW137v5kZ6"
      },
      "execution_count": null,
      "outputs": []
    },
    {
      "cell_type": "markdown",
      "source": [
        "# Step 10: Hyperparameter Tuning & Cross-Validation"
      ],
      "metadata": {
        "id": "p5mkA06q5knR"
      }
    },
    {
      "cell_type": "markdown",
      "source": [
        "**Why I Am Doing This**\n",
        "\n",
        "My baseline and initial model comparisons (Steps 8–9) tell me what works; now I want to squeeze out reliable performance without fooling myself. This step is about:\n",
        "\n",
        "- Systematically searching hyperparameters.\n",
        "\n",
        "- Using robust cross-validation to estimate performance.\n",
        "\n",
        "- Avoiding leakage and overfitting to the validation set.\n",
        "\n",
        "- Selecting a configuration that is accurate, stable, and reproducible.\n",
        "\n",
        ">Goal: pick a model + hyperparameters that generalize, not just look good on one lucky split."
      ],
      "metadata": {
        "id": "EVYJpkhm52qy"
      }
    },
    {
      "cell_type": "markdown",
      "source": [
        "## What I Tune (Scope)"
      ],
      "metadata": {
        "id": "BJ2tBuMN59hk"
      }
    },
    {
      "cell_type": "markdown",
      "source": [
        "I consider tuning both algorithm hyperparameters and pipeline choices:\n",
        "\n",
        "- Algorithm hyperparameters (e.g., tree depth, regularization strength, learning rate).\n",
        "\n",
        "- Preprocessing knobs (e.g., scaler type, imputation strategy).\n",
        "\n",
        "- Class imbalance handling (e.g., class weights, sampling ratios).\n",
        "\n",
        "- Decision threshold (for classification, tune threshold after model training).\n",
        "\n",
        "I keep the search space realistic (broad enough to discover good regions, narrow enough to finish in time)."
      ],
      "metadata": {
        "id": "b3xmaqTT6CEt"
      }
    },
    {
      "cell_type": "code",
      "source": [],
      "metadata": {
        "id": "iLZ6x9B06Fym"
      },
      "execution_count": null,
      "outputs": []
    },
    {
      "cell_type": "markdown",
      "source": [
        "## Cross-Validation Strategies (Picking the Right One)"
      ],
      "metadata": {
        "id": "0tfSH7xP6F7Y"
      }
    },
    {
      "cell_type": "markdown",
      "source": [
        "I choose a CV scheme that matches my data:\n",
        "\n",
        "- K-Fold CV (k=5 or 10): default for balanced, IID data.\n",
        "\n",
        "- Stratified K-Fold: preserves class ratios (my default for classification).\n",
        "\n",
        "- Group K-Fold: ensures entire groups (e.g., users, stores) don’t leak across folds.\n",
        "\n",
        "- TimeSeriesSplit (rolling/forward chaining): train on past → validate on future (no time leakage).\n",
        "\n",
        "- Repeated K-Fold: repeats folds to reduce variance if the dataset is small.\n",
        "\n",
        "- Nested CV (outer + inner loops): gold standard to avoid optimistic bias when model selection itself is tuned; used when I need an unbiased estimate of the tuned pipeline.\n",
        "\n",
        ">⚠️ If there are groups, sessions, or entities that can repeat, I must keep them within a fold to prevent leakage."
      ],
      "metadata": {
        "id": "tqPjtPuf6H_B"
      }
    },
    {
      "cell_type": "code",
      "source": [],
      "metadata": {
        "id": "wZOMjCDS6RRn"
      },
      "execution_count": null,
      "outputs": []
    },
    {
      "cell_type": "markdown",
      "source": [
        "## Search Methods (How I Explore the Space)"
      ],
      "metadata": {
        "id": "39ioZIuC6R31"
      }
    },
    {
      "cell_type": "markdown",
      "source": [
        "- Manual / heuristic search: quick sanity sweeps for a new dataset.\n",
        "\n",
        "- Grid Search: exhaustive over a small, curated grid (costly; good for a few parameters).\n",
        "\n",
        "- Random Search: broad, cheap exploration; surprisingly effective for high-dimensional spaces.\n",
        "\n",
        "- Bayesian Optimization (conceptual): iteratively proposes promising configs (e.g., TPE/GP ideas); efficient for expensive models.\n",
        "\n",
        "- Successive Halving / Hyperband (conceptual): allocate more budget to winners, early-stop losers.\n",
        "\n",
        "- Early Stopping (for boosted trees / neural nets): stop training when validation metric stops improving.\n",
        "\n",
        ">Rule of thumb: start with Random Search to find good regions, then Grid or Bayesian to refine."
      ],
      "metadata": {
        "id": "Q_xKJ5Hv6UmK"
      }
    },
    {
      "cell_type": "code",
      "source": [],
      "metadata": {
        "id": "_EhTTyFs6gMj"
      },
      "execution_count": null,
      "outputs": []
    },
    {
      "cell_type": "markdown",
      "source": [
        "## Typical Hyperparameters (Cheat Sheet)"
      ],
      "metadata": {
        "id": "cVY-A3rS6gRM"
      }
    },
    {
      "cell_type": "markdown",
      "source": [
        "I tailor ranges to dataset size and compute budget; ranges below are starting points.\n",
        "\n",
        "**Linear / Logistic Regression**\n",
        "\n",
        "- `C` (inverse regularization): log-uniform ~ `[1e-3, 1e+3]`\n",
        "\n",
        "- `penalty`: `l2` (often best default)\n",
        "\n",
        "- `class_weight`: `None` or `balanced` (for imbalance)\n",
        "\n",
        "- Notes: scale features; watch multicollinearity.\n",
        "\n",
        "**SVM (Classification)**\n",
        "\n",
        "- `kernel`: `linear` or `rbf`\n",
        "\n",
        "- `C` log-uniform `[1e-3, 1e+3]`\n",
        "\n",
        "- `gamma` (RBF): log-uniform `[1e-4, 1e+1]`\n",
        "\n",
        "- Notes: scale features; sensitive to C/gamma.\n",
        "\n",
        "**K-Nearest Neighbors**\n",
        "\n",
        "- `n_neighbors`: `[3, 5, 7, 9, 15, 25]`\n",
        "\n",
        "- `weights`: `uniform` vs `distance`\n",
        "\n",
        "- `p`: `1` (Manhattan) or `2` (Euclidean)\n",
        "\n",
        "- Notes: scale features; costly at inference.\n",
        "\n",
        "**Decision Tree**\n",
        "\n",
        "- `max_depth`: `[3, 5, 7, 10, None]`\n",
        "\n",
        "- `min_samples_leaf`: `[1, 2, 5, 10]`\n",
        "\n",
        "- `min_samples_split`: `[2, 5, 10]`\n",
        "\n",
        "- `max_features`: `None`, `sqrt`, or `fraction`\n",
        "\n",
        "- `ccp_alpha`: pruning `[0.0, 0.01, 0.05]`\n",
        "\n",
        "**Random Forest**\n",
        "\n",
        "- `n_estimators`: `[200, 500, 1000]`\n",
        "\n",
        "- `max_depth`: `[None, 10, 20, 30]`\n",
        "\n",
        "- `min_samples_leaf`: `[1, 2, 5]`\n",
        "\n",
        "- `max_features`: `sqrt`, `log2`, `fraction`\n",
        "\n",
        "- `bootstrap`: `True/False`\n",
        "\n",
        "- `class_weight`: `None/balanced`\n",
        "\n",
        "**Gradient-Boosted Trees (generic / XGBoost-like)**\n",
        "\n",
        "- `n_estimators`: `[200, 500, 1000]` (with early stopping)\n",
        "\n",
        "- `learning_rate`: `[0.01, 0.1, 0.2]`\n",
        "\n",
        "- `max_depth`: `[2, 3, 5, 7]`\n",
        "\n",
        "- `subsample`: `[0.6, 0.8, 1.0]`\n",
        "\n",
        "- `colsample_bytree`: `[0.6, 0.8, 1.0]`\n",
        "\n",
        "- `min_child_weight` / `min_samples_leaf`: `[1, 3, 5]`\n",
        "\n",
        "- `reg_lambda` / `reg_alpha`: `[0, 1, 10]`\n",
        "\n",
        "**Neural Network (MLP-style)**\n",
        "\n",
        "- `hidden_layers`: e.g., `[(64,), (128,), (128,64)]`\n",
        "\n",
        "- `activation`: `relu`, `tanh`\n",
        "\n",
        "- `alpha` (L2): `[1e-5, 1e-3, 1e-1]`\n",
        "\n",
        "- `learning_rate_init`: `[1e-4, 1e-3, 1e-2]`\n",
        "\n",
        "- `batch_size`: `[32, 64, 128]`\n",
        "\n",
        "- `epochs`: budget-constrained with early stopping\n",
        "\n",
        "- Notes: scale features; consider dropout (conceptually) and patience."
      ],
      "metadata": {
        "id": "GSu-rVt960YQ"
      }
    },
    {
      "cell_type": "code",
      "source": [],
      "metadata": {
        "id": "AdjtBy8C8Afz"
      },
      "execution_count": null,
      "outputs": []
    },
    {
      "cell_type": "markdown",
      "source": [
        "## Imbalance & Threshold Tuning"
      ],
      "metadata": {
        "id": "1qZtm-NX8kLE"
      }
    },
    {
      "cell_type": "markdown",
      "source": [
        "If classes are imbalanced or costs are asymmetric, I:\n",
        "\n",
        "- Use Stratified CV, consider class_weight or resampling (undersample/oversample).\n",
        "\n",
        "- Optimize thresholds on validation data to maximize target metric (e.g., F1, Youden’s J, cost-sensitive utility).\n",
        "\n",
        "- Consider probability calibration (Platt/Isotonic) if calibrated probabilities matter.\n",
        "\n",
        ">Important: threshold tuning is done after model fitting, using validation predictions only."
      ],
      "metadata": {
        "id": "G3jwtlxv8k95"
      }
    },
    {
      "cell_type": "code",
      "source": [],
      "metadata": {
        "id": "PJtHRAWR8o0Q"
      },
      "execution_count": null,
      "outputs": []
    },
    {
      "cell_type": "markdown",
      "source": [
        "## Learning Curves & Validation Curves"
      ],
      "metadata": {
        "id": "1Q2xvJic8o4X"
      }
    },
    {
      "cell_type": "markdown",
      "source": [
        "- Learning curves: train size vs. score → diagnose under/overfitting and whether more data helps.\n",
        "\n",
        "- Validation curves: metric vs. a single hyperparameter → find sweet spots (e.g., depth, C).\n",
        "\n",
        "These plots guide where to expand or tighten the search."
      ],
      "metadata": {
        "id": "JBSw_TjP8rET"
      }
    },
    {
      "cell_type": "code",
      "source": [],
      "metadata": {
        "id": "ZYnNlGtQ8uKO"
      },
      "execution_count": null,
      "outputs": []
    },
    {
      "cell_type": "markdown",
      "source": [
        "## Experiment Design (Templates)"
      ],
      "metadata": {
        "id": "SjmlpuY78uRQ"
      }
    },
    {
      "cell_type": "markdown",
      "source": [
        "Search Space Log (Template)\n",
        "\n",
        "| Param             | Values / Distribution | Rationale           |\n",
        "| ----------------- | --------------------- | ------------------- |\n",
        "| max\\_depth        | \\[3, 5, 7, 10]        | control complexity  |\n",
        "| n\\_estimators     | \\[200, 500, 1000]     | stability vs time   |\n",
        "| learning\\_rate    | \\[0.01, 0.1]          | trade speed/overfit |\n",
        "| subsample         | \\[0.6, 0.8, 1.0]      | reduce variance     |\n",
        "| colsample\\_bytree | \\[0.6, 0.8, 1.0]      | reduce correlation  |\n",
        "\n",
        "Experiment Log (Template)\n",
        "\n",
        "| Exp ID | Model    | CV Scheme     | Mean (Primary) | Std   | Sec. Metric  | Fit Time | Notes         |\n",
        "| -----: | -------- | ------------- | -------------- | ----- | ------------ | -------: | ------------- |\n",
        "|    001 | Logistic | StratKFold(5) | 0.742          | 0.009 | ROC-AUC 0.80 |     0:07 | baseline      |\n",
        "|    014 | RF       | StratKFold(5) | 0.802          | 0.011 | ROC-AUC 0.87 |     1:23 | depth=20      |\n",
        "|    027 | GBT      | StratKFold(5) | **0.824**      | 0.008 | ROC-AUC 0.90 |     1:56 | early stop=50 |\n"
      ],
      "metadata": {
        "id": "D5NbBSLn8wSS"
      }
    },
    {
      "cell_type": "code",
      "source": [],
      "metadata": {
        "id": "D5vhnHm89ERW"
      },
      "execution_count": null,
      "outputs": []
    },
    {
      "cell_type": "markdown",
      "source": [
        "## Leakage Prevention & Reproducibility"
      ],
      "metadata": {
        "id": "--Bcrbch9Ed7"
      }
    },
    {
      "cell_type": "markdown",
      "source": [
        "- Wrap preprocessing + model in a single pipeline so CV never sees training stats from validation folds.\n",
        "\n",
        "- For time-dependent data, use TimeSeriesSplit and compute all features from the past only.\n",
        "\n",
        "- Fix random seeds where possible; note library versions and hardware.\n",
        "\n",
        "- Keep train/val/test separation sacred; never peek at test."
      ],
      "metadata": {
        "id": "Gaii7GIZ9HBm"
      }
    },
    {
      "cell_type": "code",
      "source": [],
      "metadata": {
        "id": "u0ez-D5c9Jws"
      },
      "execution_count": null,
      "outputs": []
    },
    {
      "cell_type": "markdown",
      "source": [
        "## Model Selection Criteria (When I Stop)"
      ],
      "metadata": {
        "id": "EftkbuGe9KAK"
      }
    },
    {
      "cell_type": "markdown",
      "source": [
        "I pick the configuration that balances:\n",
        "\n",
        "- Primary metric (best mean CV).\n",
        "\n",
        "- Stability (small CV std).\n",
        "\n",
        "- Simplicity (prefer fewer knobs if performance is tied).\n",
        "\n",
        "- Inference cost (latency/memory).\n",
        "\n",
        "- Fairness / calibration (if relevant).\n",
        "\n",
        "If two configs tie, I choose the simpler, faster, or more interpretable one."
      ],
      "metadata": {
        "id": "iOWTJnmc9PEi"
      }
    },
    {
      "cell_type": "code",
      "source": [],
      "metadata": {
        "id": "xHLDkUbh9SAC"
      },
      "execution_count": null,
      "outputs": []
    },
    {
      "cell_type": "markdown",
      "source": [
        "## My Tuning & CV Checklist"
      ],
      "metadata": {
        "id": "HL49J0Hd9SF-"
      }
    },
    {
      "cell_type": "markdown",
      "source": [
        " - ✅ Picked an appropriate CV strategy (Stratified / Group / TimeSeries)\n",
        "\n",
        " - ⬜️ Defined a realistic search space\n",
        "\n",
        " - ⬜️ Chose a search method (Random → Grid / Bayesian)\n",
        "\n",
        " - ⬜️ Used pipelines to avoid leakage\n",
        "\n",
        " - ⬜️ Logged mean ± std across folds\n",
        "\n",
        " - ⬜️ Considered class imbalance and threshold tuning\n",
        "\n",
        " - ⬜️ Checked learning/validation curves\n",
        "\n",
        " - ⬜️ Fixed seeds & documented environment\n",
        "\n",
        " - ⬜️ Selected a final configuration based on metric + stability"
      ],
      "metadata": {
        "id": "fmHW_CoU9UM1"
      }
    },
    {
      "cell_type": "code",
      "source": [],
      "metadata": {
        "id": "cv_O65Ds9eWF"
      },
      "execution_count": null,
      "outputs": []
    },
    {
      "cell_type": "markdown",
      "source": [
        "# Step 11: Model Interpretation & Feature Importance"
      ],
      "metadata": {
        "id": "D3GKm6LI9eez"
      }
    },
    {
      "cell_type": "markdown",
      "source": [
        "**Why I Am Doing This**\n",
        "\n",
        "After tuning my best models, I want to understand what they learned. Interpretation helps me:\n",
        "\n",
        "- Build trust with stakeholders.\n",
        "\n",
        "- Detect spurious correlations and potential leakage.\n",
        "\n",
        "- Improve the model via targeted feature engineering.\n",
        "\n",
        "- Check fairness, stability, and robustness.\n",
        "\n",
        "- Produce explanations suitable for a report or production documentation.\n",
        "\n",
        ">A model that performs well and can be explained is more valuable than a black box with a slightly higher score."
      ],
      "metadata": {
        "id": "C2gidcNLBlnf"
      }
    },
    {
      "cell_type": "markdown",
      "source": [
        "## What “Interpretation” Means (Global vs Local)"
      ],
      "metadata": {
        "id": "_2UFFWhpCLfj"
      }
    },
    {
      "cell_type": "markdown",
      "source": [
        "- Global interpretation: overall patterns the model uses across the dataset (e.g., which features matter most on average).\n",
        "\n",
        "- Local interpretation: why the model made a specific prediction for a specific instance (e.g., which features pushed the prediction up/down for this row).\n",
        "\n",
        "I aim to gather both: global insights (feature importance) and local stories (case-by-case explanations)."
      ],
      "metadata": {
        "id": "8VNfxIVECOoU"
      }
    },
    {
      "cell_type": "code",
      "source": [],
      "metadata": {
        "id": "Jklyrt38CSO7"
      },
      "execution_count": null,
      "outputs": []
    },
    {
      "cell_type": "markdown",
      "source": [
        "## Model-Specific vs Model-Agnostic Tools"
      ],
      "metadata": {
        "id": "7TXMsx1_CSYC"
      }
    },
    {
      "cell_type": "markdown",
      "source": [
        "- Model-specific (depend on algorithm internals)\n",
        "\n",
        "   - Linear/Logistic: coefficients, odds ratios.\n",
        "\n",
        "   - Trees/Ensembles: split gains, Gini/entropy importance.\n",
        "\n",
        "- Model-agnostic (work for any model)\n",
        "\n",
        "   - Permutation Importance (global).\n",
        "\n",
        "   - Partial Dependence (PDP) / ICE (global + local patterns).\n",
        "\n",
        "   - SHAP (global + local, additive attributions).\n",
        "\n",
        "   - LIME (local, surrogate explanations).\n",
        "\n",
        "I prefer model-agnostic methods for consistency across different algorithms."
      ],
      "metadata": {
        "id": "6dnFLRFaCUnW"
      }
    },
    {
      "cell_type": "code",
      "source": [],
      "metadata": {
        "id": "MyLpexhqChbG"
      },
      "execution_count": null,
      "outputs": []
    },
    {
      "cell_type": "markdown",
      "source": [
        "## Global Importance: What Matters Overall"
      ],
      "metadata": {
        "id": "UXwcFa_KChkp"
      }
    },
    {
      "cell_type": "markdown",
      "source": [
        "**A) Coefficients (Linear/Logistic)****\n",
        "\n",
        "- Interpret sign (+/–) and magnitude (after proper scaling).\n",
        "\n",
        "- Convert logistic coefficients to odds ratios: exp(coef) for intuitive impact.\n",
        "\n",
        "- Beware multicollinearity (coefficients can be unstable when features are correlated).\n",
        "\n",
        "**B) Tree-Based Importance**\n",
        "\n",
        "- Impurity-based importance (Gini/entropy decrease): fast but biased toward high-cardinality features.\n",
        "\n",
        "- Gain/weight/cover (boosted trees): more nuanced but still internal.\n",
        "\n",
        "- Use Permutation Importance to validate (less bias).\n",
        "\n",
        "**C) Permutation Importance (Model-Agnostic)**\n",
        "\n",
        "- Shuffle one feature at a time; measure drop in performance.\n",
        "\n",
        "- Pros: easy to interpret, comparable across models.\n",
        "\n",
        "- Caveat: correlated features can split credit, diluting importance.\n",
        "\n",
        "| Rank | Feature    | Method                 | Relative Importance | Notes (correlation/leakage risk) |\n",
        "| ---: | ---------- | ---------------------- | ------------------: | -------------------------------- |\n",
        "|    1 | feature\\_A | Permutation (Accuracy) |                0.17 | Strong, low correlation          |\n",
        "|    2 | feature\\_B | Tree Gain              |                0.14 | Correlated with feature\\_C       |\n",
        "|    3 | feature\\_C | Permutation (AUC)      |                0.10 | Check redundancy with B          |\n"
      ],
      "metadata": {
        "id": "L48VmCKQCjwJ"
      }
    },
    {
      "cell_type": "code",
      "source": [],
      "metadata": {
        "id": "v0ZS8a2PCr5b"
      },
      "execution_count": null,
      "outputs": []
    },
    {
      "cell_type": "markdown",
      "source": [
        "## Effect Size & Shape: PDP / ICE"
      ],
      "metadata": {
        "id": "TCPMJgrlCsB1"
      }
    },
    {
      "cell_type": "markdown",
      "source": [
        "- Partial Dependence Plot (PDP): averages out other features to show how changing one feature affects predictions.\n",
        "\n",
        "   - Great for monotonic or smooth effects.\n",
        "\n",
        "   - For interactions, PDP may hide heterogeneity.\n",
        "\n",
        "- ICE (Individual Conditional Expectation): shows curves per instance.\n",
        "\n",
        "   - Reveals interaction and heterogeneous effects PDP might mask.\n",
        "\n",
        "**PDP/ICE Notes (Template)**\n",
        "\n",
        "`feature_A`: near-linear positive effect across range.\n",
        "\n",
        "`feature_B`: threshold at ~`x=0.42`; effect saturates after 0.7.\n",
        "\n",
        "`feature_C`: non-monotonic; effect flips for subgroup `segment=Y`.\n",
        "\n",
        ">If ICE shows bundles of curves, I consider interaction features or segmented models."
      ],
      "metadata": {
        "id": "eQEhiUQvCyKK"
      }
    },
    {
      "cell_type": "code",
      "source": [],
      "metadata": {
        "id": "YUVvxhdyDAP0"
      },
      "execution_count": null,
      "outputs": []
    },
    {
      "cell_type": "markdown",
      "source": [
        "## Local Explanations: SHAP / LIME (Concepts)"
      ],
      "metadata": {
        "id": "pTJzEPY_DAZP"
      }
    },
    {
      "cell_type": "markdown",
      "source": [
        "- SHAP: additive feature attributions; consistent global + local explanations.\n",
        "\n",
        "  - Global: average |SHAP| per feature (importance).\n",
        "\n",
        "  - Local: per-row waterfall plot (how features push prediction up/down).\n",
        "\n",
        "Pros: solid theoretical grounding; cons: heavier compute for large models.\n",
        "\n",
        "- LIME: fits a local surrogate (e.g., linear model) around a specific instance.\n",
        "\n",
        "  - Pros: fast local intuition; cons: sensitive to sampling/kernel choices.\n",
        "\n",
        "| Case ID | Pred | True | Top Positive Contributors            | Top Negative Contributors            | Notes                           |\n",
        "| ------: | ---: | ---: | ------------------------------------ | ------------------------------------ | ------------------------------- |\n",
        "|    1042 | 0.84 |    1 | feature\\_A(+0.23), feature\\_C(+0.11) | feature\\_D(–0.06), feature\\_E(–0.03) | Aligns with domain              |\n",
        "|    1187 | 0.31 |    0 | feature\\_F(+0.07)                    | feature\\_A(–0.15), feature\\_B(–0.12) | Borderline, threshold-sensitive |\n"
      ],
      "metadata": {
        "id": "1aTszmvIDCtx"
      }
    },
    {
      "cell_type": "code",
      "source": [],
      "metadata": {
        "id": "QoiUQfB0DIsp"
      },
      "execution_count": null,
      "outputs": []
    },
    {
      "cell_type": "markdown",
      "source": [
        "## Interactions & Nonlinearity"
      ],
      "metadata": {
        "id": "AVMhH779DNih"
      }
    },
    {
      "cell_type": "markdown",
      "source": [
        "I explicitly test for interactions:\n",
        "\n",
        "- Two-way PDP (feature X vs feature Y): reveals joint effects (e.g., effect of X depends on Y).\n",
        "\n",
        "- Interaction strength ranking (tree models often expose this).\n",
        "\n",
        "- If strong interactions appear, I consider:\n",
        "\n",
        "   - Adding interaction features (e.g., X * Y, bins).\n",
        "\n",
        "   - Using models that capture interactions (boosted trees, NNs).\n",
        "\n",
        "| Pair             | Evidence         | Action                                |\n",
        "| ---------------- | ---------------- | ------------------------------------- |\n",
        "| feature\\_A × B   | PDP 2D saddle    | Add cross term; evaluate lift         |\n",
        "| feature\\_C × seg | ICE split by seg | Train segmented models or add one-hot |\n"
      ],
      "metadata": {
        "id": "HPe5iRPJDQOC"
      }
    },
    {
      "cell_type": "code",
      "source": [],
      "metadata": {
        "id": "NWCWIxiyDWfk"
      },
      "execution_count": null,
      "outputs": []
    },
    {
      "cell_type": "markdown",
      "source": [
        "## Stability & Robustness Checks"
      ],
      "metadata": {
        "id": "U2fQlfofDW0E"
      }
    },
    {
      "cell_type": "markdown",
      "source": [
        "- Bootstrap importance: repeat importance on resampled data; check variance.\n",
        "\n",
        "- K-fold stability: does the ranking change across folds?\n",
        "\n",
        "- Drift sensitivity (if temporal): compute importance in time slices.\n",
        "\n",
        "If a feature’s importance oscillates wildly, I’m cautious about relying on it."
      ],
      "metadata": {
        "id": "ealXJ2d_DY2U"
      }
    },
    {
      "cell_type": "code",
      "source": [],
      "metadata": {
        "id": "Zbq9vNAaDc0m"
      },
      "execution_count": null,
      "outputs": []
    },
    {
      "cell_type": "markdown",
      "source": [
        "## Fairness, Ethics, & Compliance (High-Level)"
      ],
      "metadata": {
        "id": "rJmLxrB7Dc9U"
      }
    },
    {
      "cell_type": "markdown",
      "source": [
        "- I perform basic fairness diagnostics when relevant:\n",
        "\n",
        "- Group-wise metrics (e.g., precision/recall by sensitive group).\n",
        "\n",
        "- Calibration by group (are predicted probabilities reliable across groups?).\n",
        "\n",
        "Compare error rates to detect systematic bias.\n",
        "\n",
        "| Group   | Support | Precision | Recall | FPR | FNR | Calibration Error |\n",
        "| ------- | ------: | --------: | -----: | --: | --: | ----------------: |\n",
        "| Group A |       … |         … |      … |   … |   … |                 … |\n",
        "| Group B |       … |         … |      … |   … |   … |                 … |\n",
        "\n",
        "If needed, I consider re-weighting, threshold per group (with caution), or feature revisions."
      ],
      "metadata": {
        "id": "A6GsJvR2Df0x"
      }
    },
    {
      "cell_type": "code",
      "source": [],
      "metadata": {
        "id": "icGcFmO5DjwC"
      },
      "execution_count": null,
      "outputs": []
    },
    {
      "cell_type": "markdown",
      "source": [
        "## Calibration (If Probabilities Matter)"
      ],
      "metadata": {
        "id": "Vtzt-fmUDkDo"
      }
    },
    {
      "cell_type": "markdown",
      "source": [
        "If downstream consumers rely on probabilities (not just classes):\n",
        "\n",
        "- I check reliability curves / Brier score.\n",
        "\n",
        "- Consider Platt scaling or Isotonic regression on validation outputs.\n",
        "\n",
        "- Re-evaluate after calibration to ensure metrics and fairness hold."
      ],
      "metadata": {
        "id": "FazyFEzUDqGr"
      }
    },
    {
      "cell_type": "code",
      "source": [],
      "metadata": {
        "id": "C5mxtTXeDteo"
      },
      "execution_count": null,
      "outputs": []
    },
    {
      "cell_type": "markdown",
      "source": [
        "## Leakage & Proxy Detection"
      ],
      "metadata": {
        "id": "JxfCb8W9DuiT"
      }
    },
    {
      "cell_type": "markdown",
      "source": [
        "I scrutinize highly predictive features:\n",
        "\n",
        "- Do they encode future information (leakage)?\n",
        "\n",
        "- Are they proxies for sensitive attributes?\n",
        "\n",
        "- Are they data entry artifacts (e.g., post-outcome flags)?\n",
        "\n",
        "If yes, I remove or re-design those features and re-train."
      ],
      "metadata": {
        "id": "DyQe2kWHDwgO"
      }
    },
    {
      "cell_type": "code",
      "source": [],
      "metadata": {
        "id": "xqAGWPCoDz2U"
      },
      "execution_count": null,
      "outputs": []
    },
    {
      "cell_type": "markdown",
      "source": [
        "## Deliverables I Produce"
      ],
      "metadata": {
        "id": "7vwvb5vPD0F2"
      }
    },
    {
      "cell_type": "markdown",
      "source": [
        "- Global importance table (permutation + a secondary method).\n",
        "\n",
        "- PDP/ICE visuals for top features (incl. 2D where useful).\n",
        "\n",
        "- Local explanation examples (a few typical cases + a few edge cases).\n",
        "\n",
        "- Stability analysis (how importance changes across folds/time).\n",
        "\n",
        "- Fairness snapshot (if applicable).\n",
        "\n",
        "- Interpretation summary (plain language for stakeholders)."
      ],
      "metadata": {
        "id": "NnzH859KD2Jm"
      }
    },
    {
      "cell_type": "code",
      "source": [],
      "metadata": {
        "id": "XwOYb-aED5bd"
      },
      "execution_count": null,
      "outputs": []
    },
    {
      "cell_type": "markdown",
      "source": [
        "## Interpretation Checklist"
      ],
      "metadata": {
        "id": "y3o6fB20D5i-"
      }
    },
    {
      "cell_type": "markdown",
      "source": [
        "- ✅ Computed model-agnostic importances (permutation).\n",
        "\n",
        "- ✅ Cross-checked with a model-specific method (coeffs / tree gain).\n",
        "\n",
        "- ⬜️ Generated PDP/ICE for top features (1D and selected 2D).\n",
        "\n",
        "- ⬜️ Produced local explanations for representative cases.\n",
        "\n",
        "- ⬜️ Assessed stability across folds / bootstraps / time.\n",
        "\n",
        "- ⬜️ Performed fairness and calibration checks (if relevant).\n",
        "\n",
        "- ⬜️ Reviewed for leakage and proxy risks.\n",
        "\n",
        "- ⬜️ Wrote a non-technical interpretation summary."
      ],
      "metadata": {
        "id": "Ro0RaF4ZD7qd"
      }
    },
    {
      "cell_type": "code",
      "source": [],
      "metadata": {
        "id": "KnqUzBepEHP0"
      },
      "execution_count": null,
      "outputs": []
    },
    {
      "cell_type": "markdown",
      "source": [
        "# Step 12: Final Model, Deployment & Monitoring Considerations"
      ],
      "metadata": {
        "id": "mV9c4nm-EHb4"
      }
    },
    {
      "cell_type": "markdown",
      "source": [
        "**Why I Am Doing This**\n",
        "\n",
        "After interpreting my models and validating their performance, I now need to:\n",
        "\n",
        "- Select the final model configuration.\n",
        "\n",
        "- Document it clearly for reproducibility.\n",
        "\n",
        "- Consider deployment scenarios (batch, API, embedded, etc.).\n",
        "\n",
        "- Plan for monitoring and maintenance so performance stays reliable over time.\n",
        "\n",
        ">Training a good model is just half the job. Delivering it safely and sustainably is what makes it valuable in the real world."
      ],
      "metadata": {
        "id": "kSu2DQgAEWon"
      }
    },
    {
      "cell_type": "markdown",
      "source": [
        "## Final Model Selection"
      ],
      "metadata": {
        "id": "EcX0h1RwEk_T"
      }
    },
    {
      "cell_type": "markdown",
      "source": [
        "I select the model that offers the best balance of:\n",
        "\n",
        "- Performance (primary + secondary metrics).\n",
        "\n",
        "- Stability (consistent across folds, low variance).\n",
        "\n",
        "- Interpretability (easy enough to explain to stakeholders).\n",
        "\n",
        "- Efficiency (training/inference speed, resource usage).\n",
        "\n",
        "- Fairness & compliance (no clear bias or leakage).\n",
        "\n",
        "I document:\n",
        "\n",
        "- Algorithm used.\n",
        "\n",
        "- Key hyperparameters.\n",
        "\n",
        "- Preprocessing pipeline.\n",
        "\n",
        "- Evaluation results.\n",
        "\n",
        "| Field                  | Value                                                   |\n",
        "| ---------------------- | ------------------------------------------------------- |\n",
        "| Algorithm              | Random Forest                                           |\n",
        "| Hyperparameters        | `n_estimators=500, max_depth=20, class_weight=balanced` |\n",
        "| Preprocessing Pipeline | StandardScaler + OneHotEncoder + Imputation             |\n",
        "| Primary Metric (CV)    | Accuracy = 0.82 ± 0.01                                  |\n",
        "| Secondary Metrics      | F1 = 0.80, ROC-AUC = 0.88                               |\n",
        "| Calibration Status     | Calibrated with isotonic regression                     |\n",
        "| Fairness Notes         | Minor recall gap by subgroup, acceptable                |\n",
        "| Version / Date         | v1.0 — 2025-08-29                                       |\n"
      ],
      "metadata": {
        "id": "gnSBKzgpEnne"
      }
    },
    {
      "cell_type": "code",
      "source": [],
      "metadata": {
        "id": "kZdwrZLGExOS"
      },
      "execution_count": null,
      "outputs": []
    },
    {
      "cell_type": "markdown",
      "source": [
        "## Deployment Scenarios"
      ],
      "metadata": {
        "id": "PdgBuGybExWo"
      }
    },
    {
      "cell_type": "markdown",
      "source": [
        "I think about how the model will be used:\n",
        "\n",
        "- **Batch scoring**\n",
        "\n",
        "   - Run predictions periodically (daily/weekly) on new data.\n",
        "\n",
        "   - Suitable for offline decision support.\n",
        "\n",
        "- **Real-time API**\n",
        "\n",
        "   - Expose the model through a REST API or microservice.\n",
        "\n",
        "   - Useful for apps needing instant predictions.\n",
        "\n",
        "- **Embedded / Edge deployment**\n",
        "\n",
        "   - Export model to lightweight format (ONNX, Core ML, TensorRT).\n",
        "\n",
        "   - Useful for mobile devices, IoT, or embedded systems.\n",
        "\n",
        "- **Integration with existing systems**\n",
        "\n",
        "   - Model outputs feed into dashboards, CRMs, or workflows.\n",
        "\n",
        ">I align deployment with the business use case and technical environment."
      ],
      "metadata": {
        "id": "1Wk5qgzQE0Td"
      }
    },
    {
      "cell_type": "code",
      "source": [],
      "metadata": {
        "id": "bDE9sH8cFAX2"
      },
      "execution_count": null,
      "outputs": []
    },
    {
      "cell_type": "markdown",
      "source": [
        "## Reproducibility & Versioning"
      ],
      "metadata": {
        "id": "OlU4_gwyFA0w"
      }
    },
    {
      "cell_type": "markdown",
      "source": [
        "To ensure I (or others) can rebuild the model later:\n",
        "\n",
        "- Store preprocessing + model as a single pipeline.\n",
        "\n",
        "- Save model artifacts (`.pkl`, `.onnx`, `.h5`) with clear versioning.\n",
        "\n",
        "- Document software/hardware environment (Python version, library versions).\n",
        "\n",
        "- Use version control (Git) for code + configuration.\n",
        "\n",
        "- Store experiment logs (metrics, hyperparameters)."
      ],
      "metadata": {
        "id": "u6fxbhjAFDuq"
      }
    },
    {
      "cell_type": "code",
      "source": [],
      "metadata": {
        "id": "pE912W5XFNfy"
      },
      "execution_count": null,
      "outputs": []
    },
    {
      "cell_type": "markdown",
      "source": [
        "## Monitoring After Deployment"
      ],
      "metadata": {
        "id": "l9XuqciRFN3C"
      }
    },
    {
      "cell_type": "markdown",
      "source": [
        "Once in production, I cannot assume performance stays stable forever. I need ongoing monitoring:\n",
        "\n",
        "- **Data Drift:**\n",
        "\n",
        "   - Are input distributions shifting compared to training data?\n",
        "\n",
        "   - Example: average feature values change over time.\n",
        "\n",
        "- **Concept Drift:**\n",
        "\n",
        "   - Is the relationship between features and target changing?\n",
        "\n",
        "   - Example: what predicts churn today may not tomorrow.\n",
        "\n",
        "- **Performance Monitoring:**\n",
        "\n",
        "   - Track metrics on new labeled data when available.\n",
        "\n",
        "   - Watch for degradation below agreed thresholds.\n",
        "\n",
        "- **Fairness Monitoring:**\n",
        "\n",
        "Check group-level metrics periodically to detect bias drift.\n",
        "\n",
        "- **Operational Metrics:**\n",
        "\n",
        "   - Latency, throughput, error rates of serving system.\n",
        "\n",
        "| Category      | Signal / Metric      | Threshold | Action if Breached      |\n",
        "| ------------- | -------------------- | --------- | ----------------------- |\n",
        "| Data Drift    | KL divergence > 0.2  | Alert     | Retrain or investigate  |\n",
        "| Concept Drift | Drop in ROC-AUC > 5% | Alert     | Refresh pipeline        |\n",
        "| Performance   | F1 < 0.75            | Retrain   | Schedule retraining job |\n",
        "| Fairness      | Recall gap > 10%     | Alert     | Bias audit              |\n",
        "| Ops           | Latency > 200ms      | Alert     | Scale infra             |\n"
      ],
      "metadata": {
        "id": "FH8GJKREFQCq"
      }
    },
    {
      "cell_type": "code",
      "source": [],
      "metadata": {
        "id": "LvAoHmeWFgDd"
      },
      "execution_count": null,
      "outputs": []
    },
    {
      "cell_type": "markdown",
      "source": [
        "## Retraining & Lifecycle"
      ],
      "metadata": {
        "id": "um7kJPZlFgNl"
      }
    },
    {
      "cell_type": "markdown",
      "source": [
        "I plan a model lifecycle:\n",
        "\n",
        "- `Scheduled retraining`: e.g., monthly or quarterly.\n",
        "\n",
        "- `Event-triggered retraining`: when monitoring detects drift.\n",
        "\n",
        "- `Continuous learning`: pipeline auto-updates with new data (requires safeguards).\n",
        "\n",
        ">I always keep a `champion` vs `challenger` setup:\n",
        "\n",
        "- Champion = current production model.\n",
        "\n",
        "- Challenger = candidate retrained model (compared offline before replacing)."
      ],
      "metadata": {
        "id": "5OLaQRfSFibm"
      }
    },
    {
      "cell_type": "code",
      "source": [],
      "metadata": {
        "id": "sPTgOWnqFtOj"
      },
      "execution_count": null,
      "outputs": []
    },
    {
      "cell_type": "markdown",
      "source": [
        "## Final Deployment Checklist"
      ],
      "metadata": {
        "id": "CttKr8upFtXh"
      }
    },
    {
      "cell_type": "markdown",
      "source": [
        " - ✅ Documented final model configuration & metrics.\n",
        "\n",
        " - ✅ Saved artifacts + preprocessing pipeline.\n",
        "\n",
        " - ⬜️ Chose deployment strategy (batch, API, embedded).\n",
        "\n",
        " - ⬜️ Ensured reproducibility (version control + environment logs).\n",
        "\n",
        " - ⬜️ Set up monitoring for drift, performance, fairness, and ops.\n",
        "\n",
        " - ⬜️ Planned retraining strategy (scheduled + triggered).\n",
        "\n",
        " - ⬜️ Communicated limitations and assumptions to stakeholders."
      ],
      "metadata": {
        "id": "xfAM3kmvFvUA"
      }
    }
  ]
}